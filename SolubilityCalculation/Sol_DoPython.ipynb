{
 "cells": [
  {
   "cell_type": "code",
   "execution_count": 24,
   "id": "dc728eed-cedb-4f91-8d55-557cbfce1c58",
   "metadata": {},
   "outputs": [
    {
     "name": "stdout",
     "output_type": "stream",
     "text": [
      "  Threads set to 5 by Python driver.\n",
      "\n",
      "  Memory set to   9.313 GiB by Python driver.\n",
      "   => Loading Basis Set <=\n",
      "\n",
      "    Name: STO-3G\n",
      "    Role: ORBITAL\n",
      "    Keyword: BASIS\n",
      "    atoms 1-8   entry C          line    61 file /home/kuma/anaconda3/envs/chem/share/psi4/basis/sto-3g.gbs \n",
      "    atoms 9     entry O          line    81 file /home/kuma/anaconda3/envs/chem/share/psi4/basis/sto-3g.gbs \n",
      "    atoms 10-19 entry H          line    19 file /home/kuma/anaconda3/envs/chem/share/psi4/basis/sto-3g.gbs \n",
      "\n",
      "   => Loading Basis Set <=\n",
      "\n",
      "    Name: STO-3G\n",
      "    Role: ORBITAL\n",
      "    Keyword: BASIS\n",
      "    atoms 1    entry N          line    71 file /home/kuma/anaconda3/envs/chem/share/psi4/basis/sto-3g.gbs \n",
      "    atoms 2-6  entry C          line    61 file /home/kuma/anaconda3/envs/chem/share/psi4/basis/sto-3g.gbs \n",
      "    atoms 7-13 entry H          line    19 file /home/kuma/anaconda3/envs/chem/share/psi4/basis/sto-3g.gbs \n",
      "\n",
      "   => Loading Basis Set <=\n",
      "\n",
      "    Name: STO-3G\n",
      "    Role: ORBITAL\n",
      "    Keyword: BASIS\n",
      "    atoms 1-6  entry C          line    61 file /home/kuma/anaconda3/envs/chem/share/psi4/basis/sto-3g.gbs \n",
      "    atoms 7-20 entry H          line    19 file /home/kuma/anaconda3/envs/chem/share/psi4/basis/sto-3g.gbs \n",
      "\n",
      "start with 3 wavefunctions\n",
      "original data has 1258 molecules\n",
      "Rise an error. skip this molecule ID: 3\n",
      "Rise an error. skip this molecule ID: 354\n",
      "Rise an error. skip this molecule ID: 855\n",
      "completed!!!\n"
     ]
    }
   ],
   "source": [
    "! python Sol_MakeSDF.py"
   ]
  }
 ],
 "metadata": {
  "kernelspec": {
   "display_name": "Python 3 (ipykernel)",
   "language": "python",
   "name": "python3"
  },
  "language_info": {
   "codemirror_mode": {
    "name": "ipython",
    "version": 3
   },
   "file_extension": ".py",
   "mimetype": "text/x-python",
   "name": "python",
   "nbconvert_exporter": "python",
   "pygments_lexer": "ipython3",
   "version": "3.7.10"
  }
 },
 "nbformat": 4,
 "nbformat_minor": 5
}
