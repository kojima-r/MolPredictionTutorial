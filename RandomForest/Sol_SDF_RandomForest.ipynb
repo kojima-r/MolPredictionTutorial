{
 "cells": [
  {
   "cell_type": "code",
   "execution_count": 1,
   "id": "40b6f61a-aa65-45f4-a516-62c6d6da198a",
   "metadata": {},
   "outputs": [
    {
     "name": "stdout",
     "output_type": "stream",
     "text": [
      "there are 1214 molecules\n"
     ]
    }
   ],
   "source": [
    "#rdkit関連のimport\n",
    "from rdkit import Chem\n",
    "from rdkit.Chem import PandasTools\n",
    "\n",
    "#randamforest\n",
    "from sklearn.ensemble import RandomForestClassifier\n",
    "from sklearn.model_selection import train_test_split\n",
    "from sklearn.metrics import confusion_matrix\n",
    "from sklearn.metrics import accuracy_score\n",
    "from sklearn.metrics import classification_report\n",
    "\n",
    "#その他のimport\n",
    "import matplotlib as mpl\n",
    "import matplotlib.pyplot as plt\n",
    "import seaborn as sns\n",
    "import pandas as pd\n",
    "import glob\n",
    "import re\n",
    "\n",
    "#データの規格化\n",
    "def rescaling(features):\n",
    "    norm_features = []\n",
    "    max_value = max(features)\n",
    "    min_value = min(features)\n",
    "    for feature in features:\n",
    "        norm_feature = (feature - min_value)/(max_value - min_value)\n",
    "        norm_features.append(norm_feature)\n",
    "    \n",
    "    return norm_features\n",
    "\n",
    "#SDFファイルの読み込み\n",
    "mol_list  = Chem.SDMolSupplier(\"../../ForMolPredict/SDF_files/SOL/SOL_AllMOL.sdf\",removeHs=False) \n",
    "mol_num = len(mol_list)\n",
    "print(\"there are {} molecules\".format(mol_num))"
   ]
  },
  {
   "cell_type": "code",
   "execution_count": 2,
   "id": "77b94555-711b-4a0e-9664-4971031a3d1d",
   "metadata": {},
   "outputs": [],
   "source": [
    "#データの抽出\n",
    "#(A) lowを０それ以外を１とする\n",
    "SOL_class_list = [0 if mol.GetProp('SOL_class')=='(A) low' else 1 for mol in mol_list]\n",
    "mol_props = ['Volume', 'Energy', 'HOMO', 'LUMO', 'HLgap', 'Mcharge_ave', 'Mcharge_var', 'Lcharge_ave', 'Lcharge_var', 'dipole', 'Atom_num', 'Mass', 'Density']\n",
    "rdkit_fp = []\n",
    "calc_list = []\n",
    "for mol in mol_list:\n",
    "    fp = [x for x in Chem.RDKFingerprint(mol)]\n",
    "    rdkit_fp.append(fp)\n",
    "    mol_data = [mol.GetDoubleProp(prop) for prop in mol_props]\n",
    "    calc_list.append(mol_data)\n",
    "FP_df = pd.DataFrame(rdkit_fp)\n",
    "Calc_df = pd.DataFrame(calc_list, columns=mol_props)\n",
    "FC_df = pd.concat([Calc_df, FP_df], axis=1 )"
   ]
  },
  {
   "cell_type": "code",
   "execution_count": 3,
   "id": "a0a64cec-cf5f-4334-9527-f357b08be93f",
   "metadata": {},
   "outputs": [],
   "source": [
    "#Rescaling\n",
    "resc_list = []\n",
    "for prop_name, prop_data in Calc_df.iteritems():\n",
    "    resc_list.append(rescaling(prop_data))\n",
    "rescCalc_df = pd.DataFrame(resc_list, index=mol_props)\n",
    "rescCalc_df = rescCalc_df.T\n",
    "rescFC_df = pd.concat([rescCalc_df, FP_df], axis=1 )"
   ]
  },
  {
   "cell_type": "code",
   "execution_count": 4,
   "id": "0993b461-cbaf-4db0-96ab-6f4c8fd1fc64",
   "metadata": {},
   "outputs": [
    {
     "name": "stdout",
     "output_type": "stream",
     "text": [
      "number of Fingerprint: 2048\n",
      "number of Calclation Data: 13\n",
      "number of All Data: 2061\n",
      "number of Rescaled Calclation Data: 13\n",
      "number of Rescaled All Data: 2061\n"
     ]
    }
   ],
   "source": [
    "print('number of Fingerprint:',len(FP_df.columns))\n",
    "print('number of Calclation Data:', len(Calc_df.columns))\n",
    "print('number of All Data:', len(FC_df.columns))\n",
    "print('number of Rescaled Calclation Data:', len(rescCalc_df.columns))\n",
    "print('number of Rescaled All Data:', len(rescFC_df.columns))"
   ]
  },
  {
   "cell_type": "code",
   "execution_count": 6,
   "id": "ca77dcbb-ad53-497c-89ae-a19b9985ff9e",
   "metadata": {},
   "outputs": [
    {
     "name": "stdout",
     "output_type": "stream",
     "text": [
      "number of 0:  484\n",
      "number of 1:  730\n"
     ]
    }
   ],
   "source": [
    "#activityのカウント\n",
    "print('number of 0: ',SOL_class_list.count(0))\n",
    "print('number of 1: ',SOL_class_list.count(1))"
   ]
  },
  {
   "cell_type": "code",
   "execution_count": 7,
   "id": "2e63b4af-d2b0-4c04-8fab-b152b8e88bf2",
   "metadata": {},
   "outputs": [
    {
     "name": "stdout",
     "output_type": "stream",
     "text": [
      "=======Only Rdkit Finger Print========\n",
      "train accuracy: 0.996\n",
      "accuracy: 0.832\n",
      "=======Only Calculation Results========\n",
      "train accuracy: 1.000\n",
      "accuracy: 0.882\n",
      "=======Calculation Results + Rdkit Finger Print========\n",
      "train accuracy: 1.000\n",
      "test accuracy: 0.849\n",
      "/////////////Rescaled Results//////////////\n",
      "=======Only Calculation Results========\n",
      "train accuracy: 1.000\n",
      "test accuracy: 0.872\n",
      "=======Calculation Results + Rdkit Finger Print========\n",
      "train accuracy: 1.000\n",
      "test accuracy: 0.799\n"
     ]
    }
   ],
   "source": [
    "#Only Rdkit Finger Print\n",
    "X_train, X_test, y_train, y_test = train_test_split(FP_df, SOL_class_list, random_state=0)#test_size=0.25(default)\n",
    "forest = RandomForestClassifier(max_depth=100, n_estimators=500, random_state=0)\n",
    "forest.fit(X_train, y_train)\n",
    "y_pred = forest.predict(X_test) #予測値算出\n",
    "print('=======Only Rdkit Finger Print========')\n",
    "print('train accuracy: {:.3f}'.format(forest.score(X_train, y_train)))\n",
    "print('accuracy: {:.3f}'.format(accuracy_score(y_test, y_pred)))\n",
    "#Only Calculation Results\n",
    "X2_train, X2_test, y2_train, y2_test = train_test_split(Calc_df, SOL_class_list, random_state=0)\n",
    "forest2 = RandomForestClassifier(max_depth=100, n_estimators=500, random_state=0)\n",
    "forest2.fit(X2_train, y2_train)\n",
    "y2_pred = forest2.predict(X2_test) #予測値算出\n",
    "print('=======Only Calculation Results========')\n",
    "print('train accuracy: {:.3f}'.format(forest2.score(X2_train, y2_train)))\n",
    "print('accuracy: {:.3f}'.format(accuracy_score(y2_test, y2_pred)))\n",
    "#Calculation Results + Rdkit Finger Print\n",
    "X3_train, X3_test, y3_train, y3_test = train_test_split(FC_df, SOL_class_list, random_state=0)\n",
    "forest3 = RandomForestClassifier(max_depth=100, n_estimators=500, random_state=0)\n",
    "forest3.fit(X3_train, y3_train)\n",
    "y3_pred = forest3.predict(X3_test) #予測値算出\n",
    "print('=======Calculation Results + Rdkit Finger Print========')\n",
    "print('train accuracy: {:.3f}'.format(forest3.score(X3_train, y3_train)))\n",
    "print('test accuracy: {:.3f}'.format(accuracy_score(y3_test, y3_pred)))\n",
    "print('/////////////Rescaled Results//////////////')\n",
    "#Only Calculation Results\n",
    "X4_train, X4_test, y4_train, y4_test = train_test_split(rescCalc_df, SOL_class_list, random_state=0)\n",
    "forest4 = RandomForestClassifier(max_depth=100, n_estimators=500, random_state=0)\n",
    "forest4.fit(X4_train, y4_train)\n",
    "y4_pred = forest4.predict(X4_test) #予測値算出\n",
    "print('=======Only Calculation Results========')\n",
    "print('train accuracy: {:.3f}'.format(forest4.score(X4_train, y4_train)))\n",
    "print('test accuracy: {:.3f}'.format(accuracy_score(y4_test, y4_pred)))\n",
    "#Calculation Results + Rdkit Finger Print\n",
    "X5_train, X5_test, y5_train, y5_test = train_test_split(rescFC_df, SOL_class_list, random_state=0)\n",
    "forest5 = RandomForestClassifier(max_depth=100, n_estimators=500, random_state=0)\n",
    "forest5.fit(X5_train, y5_train)\n",
    "y5_pred = forest3.predict(X5_test) #予測値算出\n",
    "print('=======Calculation Results + Rdkit Finger Print========')\n",
    "print('train accuracy: {:.3f}'.format(forest5.score(X5_train, y5_train)))\n",
    "print('test accuracy: {:.3f}'.format(accuracy_score(y5_test, y5_pred)))"
   ]
  },
  {
   "cell_type": "code",
   "execution_count": 8,
   "id": "eba0687e-900b-45ce-aa9c-f39295520b26",
   "metadata": {},
   "outputs": [
    {
     "name": "stdout",
     "output_type": "stream",
     "text": [
      "=======Only Rdkit Finger Print========\n",
      "              precision    recall  f1-score   support\n",
      "\n",
      "           0       0.76      0.82      0.79       118\n",
      "           1       0.88      0.84      0.86       186\n",
      "\n",
      "    accuracy                           0.83       304\n",
      "   macro avg       0.82      0.83      0.83       304\n",
      "weighted avg       0.84      0.83      0.83       304\n",
      "\n",
      "=======Only Calculation Results========\n",
      "              precision    recall  f1-score   support\n",
      "\n",
      "           0       0.84      0.86      0.85       118\n",
      "           1       0.91      0.90      0.90       186\n",
      "\n",
      "    accuracy                           0.88       304\n",
      "   macro avg       0.87      0.88      0.88       304\n",
      "weighted avg       0.88      0.88      0.88       304\n",
      "\n",
      "=======Calculation Results + Rdkit Finger Print========\n",
      "              precision    recall  f1-score   support\n",
      "\n",
      "           0       0.80      0.82      0.81       118\n",
      "           1       0.88      0.87      0.87       186\n",
      "\n",
      "    accuracy                           0.85       304\n",
      "   macro avg       0.84      0.84      0.84       304\n",
      "weighted avg       0.85      0.85      0.85       304\n",
      "\n",
      "/////////////Rescaled Results//////////////\n",
      "=======Only Calculation Results========\n",
      "              precision    recall  f1-score   support\n",
      "\n",
      "           0       0.83      0.85      0.84       118\n",
      "           1       0.90      0.89      0.89       186\n",
      "\n",
      "    accuracy                           0.87       304\n",
      "   macro avg       0.86      0.87      0.87       304\n",
      "weighted avg       0.87      0.87      0.87       304\n",
      "\n",
      "=======Calculation Results + Rdkit Finger Print========\n",
      "              precision    recall  f1-score   support\n",
      "\n",
      "           0       0.89      0.55      0.68       118\n",
      "           1       0.77      0.96      0.85       186\n",
      "\n",
      "    accuracy                           0.80       304\n",
      "   macro avg       0.83      0.75      0.77       304\n",
      "weighted avg       0.82      0.80      0.79       304\n",
      "\n"
     ]
    }
   ],
   "source": [
    "#activityごとの評価\n",
    "print('=======Only Rdkit Finger Print========')\n",
    "print(classification_report(y_test,y_pred))\n",
    "print('=======Only Calculation Results========')\n",
    "print(classification_report(y2_test,y2_pred))\n",
    "print('=======Calculation Results + Rdkit Finger Print========')\n",
    "print(classification_report(y3_test,y3_pred))\n",
    "print('/////////////Rescaled Results//////////////')\n",
    "print('=======Only Calculation Results========')\n",
    "print(classification_report(y4_test,y4_pred))\n",
    "print('=======Calculation Results + Rdkit Finger Print========')\n",
    "print(classification_report(y5_test,y5_pred))"
   ]
  },
  {
   "cell_type": "code",
   "execution_count": 9,
   "id": "bc9569e6-55a0-416d-945c-46211860e484",
   "metadata": {},
   "outputs": [
    {
     "name": "stdout",
     "output_type": "stream",
     "text": [
      "=======Only Rdkit Finger Print========\n"
     ]
    },
    {
     "data": {
      "text/plain": [
       "Text(91.68, 0.5, 'true value')"
      ]
     },
     "execution_count": 9,
     "metadata": {},
     "output_type": "execute_result"
    },
    {
     "data": {
      "image/png": "[encoded data removed]",
      "text/plain": [
       "<Figure size 432x288 with 1 Axes>"
      ]
     },
     "metadata": {
      "needs_background": "light"
     },
     "output_type": "display_data"
    }
   ],
   "source": [
    "#confusion matrix\n",
    "print('=======Only Rdkit Finger Print========')\n",
    "matrix_fp = confusion_matrix(y_test, y_pred)\n",
    "sns.heatmap(matrix_fp, square=True, annot=True, cbar=False, fmt='d', cmap='RdPu')\n",
    "plt.xlabel('solubility')\n",
    "plt.ylabel('true value')"
   ]
  },
  {
   "cell_type": "code",
   "execution_count": 10,
   "id": "f8d642de-f69f-456c-9678-648ee4e614b4",
   "metadata": {},
   "outputs": [
    {
     "name": "stdout",
     "output_type": "stream",
     "text": [
      "=======Only Calculation Results========\n"
     ]
    },
    {
     "data": {
      "text/plain": [
       "Text(91.68, 0.5, 'true value')"
      ]
     },
     "execution_count": 10,
     "metadata": {},
     "output_type": "execute_result"
    },
    {
     "data": {
      "image/png": "[encoded data removed]",
      "text/plain": [
       "<Figure size 432x288 with 1 Axes>"
      ]
     },
     "metadata": {
      "needs_background": "light"
     },
     "output_type": "display_data"
    }
   ],
   "source": [
    "#confusion matrix\n",
    "print('=======Only Calculation Results========')\n",
    "matrix_calc = confusion_matrix(y2_test, y2_pred)\n",
    "sns.heatmap(matrix_calc, square=True, annot=True, cbar=False, fmt='d', cmap='RdPu')\n",
    "plt.xlabel('solubility')\n",
    "plt.ylabel('true value')"
   ]
  },
  {
   "cell_type": "code",
   "execution_count": 11,
   "id": "6f50277c-081e-4aab-9f7a-b3983091ebc9",
   "metadata": {},
   "outputs": [
    {
     "name": "stdout",
     "output_type": "stream",
     "text": [
      "=======Calculation Results + Rdkit Finger Print========\n"
     ]
    },
    {
     "data": {
      "text/plain": [
       "Text(91.68, 0.5, 'true value')"
      ]
     },
     "execution_count": 11,
     "metadata": {},
     "output_type": "execute_result"
    },
    {
     "data": {
      "image/png": "[encoded data removed]",
      "text/plain": [
       "<Figure size 432x288 with 1 Axes>"
      ]
     },
     "metadata": {
      "needs_background": "light"
     },
     "output_type": "display_data"
    }
   ],
   "source": [
    "#confusion matrix\n",
    "print('=======Calculation Results + Rdkit Finger Print========')\n",
    "matrix_FC = confusion_matrix(y3_test, y3_pred)\n",
    "sns.heatmap(matrix_FC, square=True, annot=True, cbar=False, fmt='d', cmap='RdPu')\n",
    "plt.xlabel('solubility')\n",
    "plt.ylabel('true value')"
   ]
  },
  {
   "cell_type": "code",
   "execution_count": 13,
   "id": "0ce93dff-795b-4807-be36-c72d636ccf0d",
   "metadata": {},
   "outputs": [
    {
     "name": "stdout",
     "output_type": "stream",
     "text": [
      "=======Only Rescaled Calculation Results========\n"
     ]
    },
    {
     "data": {
      "text/plain": [
       "Text(91.68, 0.5, 'true value')"
      ]
     },
     "execution_count": 13,
     "metadata": {},
     "output_type": "execute_result"
    },
    {
     "data": {
      "image/png": "[encoded data removed]",
      "text/plain": [
       "<Figure size 432x288 with 1 Axes>"
      ]
     },
     "metadata": {
      "needs_background": "light"
     },
     "output_type": "display_data"
    }
   ],
   "source": [
    "#confusion matrix\n",
    "print('=======Only Rescaled Calculation Results========')\n",
    "matrix_calc = confusion_matrix(y4_test, y4_pred)\n",
    "sns.heatmap(matrix_calc, square=True, annot=True, cbar=False, fmt='d', cmap='RdPu')\n",
    "plt.xlabel('solubility')\n",
    "plt.ylabel('true value')"
   ]
  },
  {
   "cell_type": "code",
   "execution_count": 14,
   "id": "3847332b-cd92-47e4-92b2-8694d9989b2f",
   "metadata": {},
   "outputs": [
    {
     "name": "stdout",
     "output_type": "stream",
     "text": [
      "=======Rescaled Calculation Results + Rdkit Finger Print========\n"
     ]
    },
    {
     "data": {
      "text/plain": [
       "Text(91.68, 0.5, 'true value')"
      ]
     },
     "execution_count": 14,
     "metadata": {},
     "output_type": "execute_result"
    },
    {
     "data": {
      "image/png": "[encoded data removed]",
      "text/plain": [
       "<Figure size 432x288 with 1 Axes>"
      ]
     },
     "metadata": {
      "needs_background": "light"
     },
     "output_type": "display_data"
    }
   ],
   "source": [
    "#confusion matrix\n",
    "print('=======Rescaled Calculation Results + Rdkit Finger Print========')\n",
    "matrix_FC = confusion_matrix(y5_test, y5_pred)\n",
    "sns.heatmap(matrix_FC, square=True, annot=True, cbar=False, fmt='d', cmap='RdPu')\n",
    "plt.xlabel('solubility')\n",
    "plt.ylabel('true value')"
   ]
  },
  {
   "cell_type": "code",
   "execution_count": 15,
   "id": "bf1af432-f9a6-41a6-9067-6a868d33d6e1",
   "metadata": {},
   "outputs": [],
   "source": [
    "# Feature Importance\n",
    "fti = forest.feature_importances_  \n",
    "fti2 = forest2.feature_importances_  \n",
    "fti3 = forest3.feature_importances_  \n",
    "fti4 = forest4.feature_importances_  \n",
    "fti5 = forest5.feature_importances_ \n",
    "fti_df = pd.DataFrame(fti, columns = ['importance'])\n",
    "fti_Calc_index = mol_props\n",
    "fti_FC_index = mol_props+list(fti_df.index)\n",
    "fti2_df = pd.DataFrame(fti2, columns =  ['importance'], index = fti_Calc_index)\n",
    "fti3_df = pd.DataFrame(fti3, columns =  ['importance'], index = fti_FC_index)\n",
    "fti4_df = pd.DataFrame(fti4, columns =  ['importance'], index = fti_Calc_index)\n",
    "fti5_df = pd.DataFrame(fti5, columns =  ['importance'], index = fti_FC_index)\n",
    "#sort\n",
    "fti_df = fti_df.sort_values(\"importance\", ascending=False)\n",
    "fti2_df = fti2_df.sort_values(\"importance\", ascending=False)\n",
    "fti3_df = fti3_df.sort_values(\"importance\", ascending=False)\n",
    "fti4_df = fti4_df.sort_values(\"importance\", ascending=False)\n",
    "fti5_df = fti5_df.sort_values(\"importance\", ascending=False)"
   ]
  },
  {
   "cell_type": "code",
   "execution_count": 16,
   "id": "b949552f-7bcd-4bc4-9423-201e465861f3",
   "metadata": {},
   "outputs": [
    {
     "name": "stdout",
     "output_type": "stream",
     "text": [
      "=======Only Rdkit Finger Print========\n"
     ]
    },
    {
     "data": {
      "text/plain": [
       "<AxesSubplot:>"
      ]
     },
     "execution_count": 16,
     "metadata": {},
     "output_type": "execute_result"
    },
    {
     "data": {
      "text/plain": [
       "<Figure size 432x288 with 0 Axes>"
      ]
     },
     "metadata": {},
     "output_type": "display_data"
    },
    {
     "data": {
      "image/png": "[encoded data removed]",
      "text/plain": [
       "<Figure size 432x288 with 1 Axes>"
      ]
     },
     "metadata": {
      "needs_background": "light"
     },
     "output_type": "display_data"
    }
   ],
   "source": [
    "print('=======Only Rdkit Finger Print========')\n",
    "plt.figure()\n",
    "fti_df[:20].plot.bar() #Top20"
   ]
  },
  {
   "cell_type": "code",
   "execution_count": 17,
   "id": "2ab9c09d-9360-4a5f-9456-7494497328b4",
   "metadata": {},
   "outputs": [
    {
     "name": "stdout",
     "output_type": "stream",
     "text": [
      "=======Only Calculation Results========\n"
     ]
    },
    {
     "data": {
      "text/plain": [
       "<AxesSubplot:>"
      ]
     },
     "execution_count": 17,
     "metadata": {},
     "output_type": "execute_result"
    },
    {
     "data": {
      "text/plain": [
       "<Figure size 432x288 with 0 Axes>"
      ]
     },
     "metadata": {},
     "output_type": "display_data"
    },
    {
     "data": {
      "image/png": "[encoded data removed]",
      "text/plain": [
       "<Figure size 432x288 with 1 Axes>"
      ]
     },
     "metadata": {
      "needs_background": "light"
     },
     "output_type": "display_data"
    }
   ],
   "source": [
    "print('=======Only Calculation Results========')\n",
    "plt.figure()\n",
    "fti2_df[:20].plot.bar() #Top20"
   ]
  },
  {
   "cell_type": "code",
   "execution_count": 18,
   "id": "42d998ac-aa78-49ef-83e2-db02da48c7e9",
   "metadata": {},
   "outputs": [
    {
     "name": "stdout",
     "output_type": "stream",
     "text": [
      "=======Calculation Results + Rdkit Finger Print========\n"
     ]
    },
    {
     "data": {
      "text/plain": [
       "<AxesSubplot:>"
      ]
     },
     "execution_count": 18,
     "metadata": {},
     "output_type": "execute_result"
    },
    {
     "data": {
      "text/plain": [
       "<Figure size 432x288 with 0 Axes>"
      ]
     },
     "metadata": {},
     "output_type": "display_data"
    },
    {
     "data": {
      "image/png": "[encoded data removed]",
      "text/plain": [
       "<Figure size 432x288 with 1 Axes>"
      ]
     },
     "metadata": {
      "needs_background": "light"
     },
     "output_type": "display_data"
    }
   ],
   "source": [
    "print('=======Calculation Results + Rdkit Finger Print========')\n",
    "plt.figure()\n",
    "fti3_df[:20].plot.bar() #Top20"
   ]
  },
  {
   "cell_type": "code",
   "execution_count": 19,
   "id": "6ef82d36-aa01-41f5-b21c-4cf80dfddfb0",
   "metadata": {},
   "outputs": [
    {
     "name": "stdout",
     "output_type": "stream",
     "text": [
      "=======Only Rescaled Calculation Results========\n"
     ]
    },
    {
     "data": {
      "text/plain": [
       "<AxesSubplot:>"
      ]
     },
     "execution_count": 19,
     "metadata": {},
     "output_type": "execute_result"
    },
    {
     "data": {
      "text/plain": [
       "<Figure size 432x288 with 0 Axes>"
      ]
     },
     "metadata": {},
     "output_type": "display_data"
    },
    {
     "data": {
      "image/png": "[encoded data removed]",
      "text/plain": [
       "<Figure size 432x288 with 1 Axes>"
      ]
     },
     "metadata": {
      "needs_background": "light"
     },
     "output_type": "display_data"
    }
   ],
   "source": [
    "print('=======Only Rescaled Calculation Results========')\n",
    "plt.figure()\n",
    "fti4_df[:20].plot.bar() #Top20"
   ]
  },
  {
   "cell_type": "code",
   "execution_count": 20,
   "id": "7fad5fbc-847b-4593-af34-e9b8f12fe027",
   "metadata": {},
   "outputs": [
    {
     "name": "stdout",
     "output_type": "stream",
     "text": [
      "=======Rescaled Calculation Results + Rdkit Finger Print========\n"
     ]
    },
    {
     "data": {
      "text/plain": [
       "<AxesSubplot:>"
      ]
     },
     "execution_count": 20,
     "metadata": {},
     "output_type": "execute_result"
    },
    {
     "data": {
      "text/plain": [
       "<Figure size 432x288 with 0 Axes>"
      ]
     },
     "metadata": {},
     "output_type": "display_data"
    },
    {
     "data": {
      "image/png": "[encoded data removed]",
      "text/plain": [
       "<Figure size 432x288 with 1 Axes>"
      ]
     },
     "metadata": {
      "needs_background": "light"
     },
     "output_type": "display_data"
    }
   ],
   "source": [
    "print('=======Rescaled Calculation Results + Rdkit Finger Print========')\n",
    "plt.figure()\n",
    "fti5_df[:20].plot.bar() #Top20"
   ]
  },
  {
   "cell_type": "code",
   "execution_count": 21,
   "id": "b5176070-0cd6-4a2e-8f70-3ef5a3c062d4",
   "metadata": {},
   "outputs": [
    {
     "ename": "KeyboardInterrupt",
     "evalue": "",
     "output_type": "error",
     "traceback": [
      "\u001b[0;31m---------------------------------------------------------------------------\u001b[0m",
      "\u001b[0;31mAttributeError\u001b[0m                            Traceback (most recent call last)",
      "\u001b[0;32m~/anaconda3/envs/chem/lib/python3.7/inspect.py\u001b[0m in \u001b[0;36m_signature_from_callable\u001b[0;34m(obj, follow_wrapper_chains, skip_bound_arg, sigcls)\u001b[0m\n\u001b[1;32m   2249\u001b[0m     \u001b[0;32mtry\u001b[0m\u001b[0;34m:\u001b[0m\u001b[0;34m\u001b[0m\u001b[0;34m\u001b[0m\u001b[0m\n\u001b[0;32m-> 2250\u001b[0;31m         \u001b[0mpartialmethod\u001b[0m \u001b[0;34m=\u001b[0m \u001b[0mobj\u001b[0m\u001b[0;34m.\u001b[0m\u001b[0m_partialmethod\u001b[0m\u001b[0;34m\u001b[0m\u001b[0;34m\u001b[0m\u001b[0m\n\u001b[0m\u001b[1;32m   2251\u001b[0m     \u001b[0;32mexcept\u001b[0m \u001b[0mAttributeError\u001b[0m\u001b[0;34m:\u001b[0m\u001b[0;34m\u001b[0m\u001b[0;34m\u001b[0m\u001b[0m\n",
      "\u001b[0;31mAttributeError\u001b[0m: 'function' object has no attribute '_partialmethod'",
      "\nDuring handling of the above exception, another exception occurred:\n",
      "\u001b[0;31mKeyboardInterrupt\u001b[0m                         Traceback (most recent call last)",
      "\u001b[0;32m/tmp/ipykernel_15628/1282259838.py\u001b[0m in \u001b[0;36m<module>\u001b[0;34m\u001b[0m\n\u001b[1;32m     19\u001b[0m     \u001b[0mnforest1\u001b[0m\u001b[0;34m.\u001b[0m\u001b[0mfit\u001b[0m\u001b[0;34m(\u001b[0m\u001b[0mX_train\u001b[0m\u001b[0;34m,\u001b[0m \u001b[0my_train\u001b[0m\u001b[0;34m)\u001b[0m\u001b[0;34m\u001b[0m\u001b[0;34m\u001b[0m\u001b[0m\n\u001b[1;32m     20\u001b[0m     \u001b[0mnforest2\u001b[0m\u001b[0;34m.\u001b[0m\u001b[0mfit\u001b[0m\u001b[0;34m(\u001b[0m\u001b[0mX2_train\u001b[0m\u001b[0;34m,\u001b[0m \u001b[0my2_train\u001b[0m\u001b[0;34m)\u001b[0m\u001b[0;34m\u001b[0m\u001b[0;34m\u001b[0m\u001b[0m\n\u001b[0;32m---> 21\u001b[0;31m     \u001b[0mnforest3\u001b[0m\u001b[0;34m.\u001b[0m\u001b[0mfit\u001b[0m\u001b[0;34m(\u001b[0m\u001b[0mX3_train\u001b[0m\u001b[0;34m,\u001b[0m \u001b[0my3_train\u001b[0m\u001b[0;34m)\u001b[0m\u001b[0;34m\u001b[0m\u001b[0;34m\u001b[0m\u001b[0m\n\u001b[0m\u001b[1;32m     22\u001b[0m     \u001b[0mnforest4\u001b[0m\u001b[0;34m.\u001b[0m\u001b[0mfit\u001b[0m\u001b[0;34m(\u001b[0m\u001b[0mX4_train\u001b[0m\u001b[0;34m,\u001b[0m \u001b[0my4_train\u001b[0m\u001b[0;34m)\u001b[0m\u001b[0;34m\u001b[0m\u001b[0;34m\u001b[0m\u001b[0m\n\u001b[1;32m     23\u001b[0m     \u001b[0mnforest5\u001b[0m\u001b[0;34m.\u001b[0m\u001b[0mfit\u001b[0m\u001b[0;34m(\u001b[0m\u001b[0mX5_train\u001b[0m\u001b[0;34m,\u001b[0m \u001b[0my5_train\u001b[0m\u001b[0;34m)\u001b[0m\u001b[0;34m\u001b[0m\u001b[0;34m\u001b[0m\u001b[0m\n",
      "\u001b[0;32m~/anaconda3/envs/chem/lib/python3.7/site-packages/sklearn/ensemble/_forest.py\u001b[0m in \u001b[0;36mfit\u001b[0;34m(self, X, y, sample_weight)\u001b[0m\n\u001b[1;32m    377\u001b[0m             trees = [self._make_estimator(append=False,\n\u001b[1;32m    378\u001b[0m                                           random_state=random_state)\n\u001b[0;32m--> 379\u001b[0;31m                      for i in range(n_more_estimators)]\n\u001b[0m\u001b[1;32m    380\u001b[0m \u001b[0;34m\u001b[0m\u001b[0m\n\u001b[1;32m    381\u001b[0m             \u001b[0;31m# Parallel loop: we prefer the threading backend as the Cython code\u001b[0m\u001b[0;34m\u001b[0m\u001b[0;34m\u001b[0m\u001b[0;34m\u001b[0m\u001b[0m\n",
      "\u001b[0;32m~/anaconda3/envs/chem/lib/python3.7/site-packages/sklearn/ensemble/_forest.py\u001b[0m in \u001b[0;36m<listcomp>\u001b[0;34m(.0)\u001b[0m\n\u001b[1;32m    377\u001b[0m             trees = [self._make_estimator(append=False,\n\u001b[1;32m    378\u001b[0m                                           random_state=random_state)\n\u001b[0;32m--> 379\u001b[0;31m                      for i in range(n_more_estimators)]\n\u001b[0m\u001b[1;32m    380\u001b[0m \u001b[0;34m\u001b[0m\u001b[0m\n\u001b[1;32m    381\u001b[0m             \u001b[0;31m# Parallel loop: we prefer the threading backend as the Cython code\u001b[0m\u001b[0;34m\u001b[0m\u001b[0;34m\u001b[0m\u001b[0;34m\u001b[0m\u001b[0m\n",
      "\u001b[0;32m~/anaconda3/envs/chem/lib/python3.7/site-packages/sklearn/ensemble/_base.py\u001b[0m in \u001b[0;36m_make_estimator\u001b[0;34m(self, append, random_state)\u001b[0m\n\u001b[1;32m    148\u001b[0m         \u001b[0msub\u001b[0m\u001b[0;34m-\u001b[0m\u001b[0mestimators\u001b[0m\u001b[0;34m.\u001b[0m\u001b[0;34m\u001b[0m\u001b[0;34m\u001b[0m\u001b[0m\n\u001b[1;32m    149\u001b[0m         \"\"\"\n\u001b[0;32m--> 150\u001b[0;31m         \u001b[0mestimator\u001b[0m \u001b[0;34m=\u001b[0m \u001b[0mclone\u001b[0m\u001b[0;34m(\u001b[0m\u001b[0mself\u001b[0m\u001b[0;34m.\u001b[0m\u001b[0mbase_estimator_\u001b[0m\u001b[0;34m)\u001b[0m\u001b[0;34m\u001b[0m\u001b[0;34m\u001b[0m\u001b[0m\n\u001b[0m\u001b[1;32m    151\u001b[0m         estimator.set_params(**{p: getattr(self, p)\n\u001b[1;32m    152\u001b[0m                                 for p in self.estimator_params})\n",
      "\u001b[0;32m~/anaconda3/envs/chem/lib/python3.7/site-packages/sklearn/utils/validation.py\u001b[0m in \u001b[0;36minner_f\u001b[0;34m(*args, **kwargs)\u001b[0m\n\u001b[1;32m     61\u001b[0m             \u001b[0mextra_args\u001b[0m \u001b[0;34m=\u001b[0m \u001b[0mlen\u001b[0m\u001b[0;34m(\u001b[0m\u001b[0margs\u001b[0m\u001b[0;34m)\u001b[0m \u001b[0;34m-\u001b[0m \u001b[0mlen\u001b[0m\u001b[0;34m(\u001b[0m\u001b[0mall_args\u001b[0m\u001b[0;34m)\u001b[0m\u001b[0;34m\u001b[0m\u001b[0;34m\u001b[0m\u001b[0m\n\u001b[1;32m     62\u001b[0m             \u001b[0;32mif\u001b[0m \u001b[0mextra_args\u001b[0m \u001b[0;34m<=\u001b[0m \u001b[0;36m0\u001b[0m\u001b[0;34m:\u001b[0m\u001b[0;34m\u001b[0m\u001b[0;34m\u001b[0m\u001b[0m\n\u001b[0;32m---> 63\u001b[0;31m                 \u001b[0;32mreturn\u001b[0m \u001b[0mf\u001b[0m\u001b[0;34m(\u001b[0m\u001b[0;34m*\u001b[0m\u001b[0margs\u001b[0m\u001b[0;34m,\u001b[0m \u001b[0;34m**\u001b[0m\u001b[0mkwargs\u001b[0m\u001b[0;34m)\u001b[0m\u001b[0;34m\u001b[0m\u001b[0;34m\u001b[0m\u001b[0m\n\u001b[0m\u001b[1;32m     64\u001b[0m \u001b[0;34m\u001b[0m\u001b[0m\n\u001b[1;32m     65\u001b[0m             \u001b[0;31m# extra_args > 0\u001b[0m\u001b[0;34m\u001b[0m\u001b[0;34m\u001b[0m\u001b[0;34m\u001b[0m\u001b[0m\n",
      "\u001b[0;32m~/anaconda3/envs/chem/lib/python3.7/site-packages/sklearn/base.py\u001b[0m in \u001b[0;36mclone\u001b[0;34m(estimator, safe)\u001b[0m\n\u001b[1;32m     72\u001b[0m \u001b[0;34m\u001b[0m\u001b[0m\n\u001b[1;32m     73\u001b[0m     \u001b[0mklass\u001b[0m \u001b[0;34m=\u001b[0m \u001b[0mestimator\u001b[0m\u001b[0;34m.\u001b[0m\u001b[0m__class__\u001b[0m\u001b[0;34m\u001b[0m\u001b[0;34m\u001b[0m\u001b[0m\n\u001b[0;32m---> 74\u001b[0;31m     \u001b[0mnew_object_params\u001b[0m \u001b[0;34m=\u001b[0m \u001b[0mestimator\u001b[0m\u001b[0;34m.\u001b[0m\u001b[0mget_params\u001b[0m\u001b[0;34m(\u001b[0m\u001b[0mdeep\u001b[0m\u001b[0;34m=\u001b[0m\u001b[0;32mFalse\u001b[0m\u001b[0;34m)\u001b[0m\u001b[0;34m\u001b[0m\u001b[0;34m\u001b[0m\u001b[0m\n\u001b[0m\u001b[1;32m     75\u001b[0m     \u001b[0;32mfor\u001b[0m \u001b[0mname\u001b[0m\u001b[0;34m,\u001b[0m \u001b[0mparam\u001b[0m \u001b[0;32min\u001b[0m \u001b[0mnew_object_params\u001b[0m\u001b[0;34m.\u001b[0m\u001b[0mitems\u001b[0m\u001b[0;34m(\u001b[0m\u001b[0;34m)\u001b[0m\u001b[0;34m:\u001b[0m\u001b[0;34m\u001b[0m\u001b[0;34m\u001b[0m\u001b[0m\n\u001b[1;32m     76\u001b[0m         \u001b[0mnew_object_params\u001b[0m\u001b[0;34m[\u001b[0m\u001b[0mname\u001b[0m\u001b[0;34m]\u001b[0m \u001b[0;34m=\u001b[0m \u001b[0mclone\u001b[0m\u001b[0;34m(\u001b[0m\u001b[0mparam\u001b[0m\u001b[0;34m,\u001b[0m \u001b[0msafe\u001b[0m\u001b[0;34m=\u001b[0m\u001b[0;32mFalse\u001b[0m\u001b[0;34m)\u001b[0m\u001b[0;34m\u001b[0m\u001b[0;34m\u001b[0m\u001b[0m\n",
      "\u001b[0;32m~/anaconda3/envs/chem/lib/python3.7/site-packages/sklearn/base.py\u001b[0m in \u001b[0;36mget_params\u001b[0;34m(self, deep)\u001b[0m\n\u001b[1;32m    192\u001b[0m         \"\"\"\n\u001b[1;32m    193\u001b[0m         \u001b[0mout\u001b[0m \u001b[0;34m=\u001b[0m \u001b[0mdict\u001b[0m\u001b[0;34m(\u001b[0m\u001b[0;34m)\u001b[0m\u001b[0;34m\u001b[0m\u001b[0;34m\u001b[0m\u001b[0m\n\u001b[0;32m--> 194\u001b[0;31m         \u001b[0;32mfor\u001b[0m \u001b[0mkey\u001b[0m \u001b[0;32min\u001b[0m \u001b[0mself\u001b[0m\u001b[0;34m.\u001b[0m\u001b[0m_get_param_names\u001b[0m\u001b[0;34m(\u001b[0m\u001b[0;34m)\u001b[0m\u001b[0;34m:\u001b[0m\u001b[0;34m\u001b[0m\u001b[0;34m\u001b[0m\u001b[0m\n\u001b[0m\u001b[1;32m    195\u001b[0m             \u001b[0mvalue\u001b[0m \u001b[0;34m=\u001b[0m \u001b[0mgetattr\u001b[0m\u001b[0;34m(\u001b[0m\u001b[0mself\u001b[0m\u001b[0;34m,\u001b[0m \u001b[0mkey\u001b[0m\u001b[0;34m)\u001b[0m\u001b[0;34m\u001b[0m\u001b[0;34m\u001b[0m\u001b[0m\n\u001b[1;32m    196\u001b[0m             \u001b[0;32mif\u001b[0m \u001b[0mdeep\u001b[0m \u001b[0;32mand\u001b[0m \u001b[0mhasattr\u001b[0m\u001b[0;34m(\u001b[0m\u001b[0mvalue\u001b[0m\u001b[0;34m,\u001b[0m \u001b[0;34m'get_params'\u001b[0m\u001b[0;34m)\u001b[0m\u001b[0;34m:\u001b[0m\u001b[0;34m\u001b[0m\u001b[0;34m\u001b[0m\u001b[0m\n",
      "\u001b[0;32m~/anaconda3/envs/chem/lib/python3.7/site-packages/sklearn/base.py\u001b[0m in \u001b[0;36m_get_param_names\u001b[0;34m(cls)\u001b[0m\n\u001b[1;32m    161\u001b[0m         \u001b[0;31m# introspect the constructor arguments to find the model parameters\u001b[0m\u001b[0;34m\u001b[0m\u001b[0;34m\u001b[0m\u001b[0;34m\u001b[0m\u001b[0m\n\u001b[1;32m    162\u001b[0m         \u001b[0;31m# to represent\u001b[0m\u001b[0;34m\u001b[0m\u001b[0;34m\u001b[0m\u001b[0;34m\u001b[0m\u001b[0m\n\u001b[0;32m--> 163\u001b[0;31m         \u001b[0minit_signature\u001b[0m \u001b[0;34m=\u001b[0m \u001b[0minspect\u001b[0m\u001b[0;34m.\u001b[0m\u001b[0msignature\u001b[0m\u001b[0;34m(\u001b[0m\u001b[0minit\u001b[0m\u001b[0;34m)\u001b[0m\u001b[0;34m\u001b[0m\u001b[0;34m\u001b[0m\u001b[0m\n\u001b[0m\u001b[1;32m    164\u001b[0m         \u001b[0;31m# Consider the constructor parameters excluding 'self'\u001b[0m\u001b[0;34m\u001b[0m\u001b[0;34m\u001b[0m\u001b[0;34m\u001b[0m\u001b[0m\n\u001b[1;32m    165\u001b[0m         parameters = [p for p in init_signature.parameters.values()\n",
      "\u001b[0;32m~/anaconda3/envs/chem/lib/python3.7/inspect.py\u001b[0m in \u001b[0;36msignature\u001b[0;34m(obj, follow_wrapped)\u001b[0m\n\u001b[1;32m   3081\u001b[0m \u001b[0;32mdef\u001b[0m \u001b[0msignature\u001b[0m\u001b[0;34m(\u001b[0m\u001b[0mobj\u001b[0m\u001b[0;34m,\u001b[0m \u001b[0;34m*\u001b[0m\u001b[0;34m,\u001b[0m \u001b[0mfollow_wrapped\u001b[0m\u001b[0;34m=\u001b[0m\u001b[0;32mTrue\u001b[0m\u001b[0;34m)\u001b[0m\u001b[0;34m:\u001b[0m\u001b[0;34m\u001b[0m\u001b[0;34m\u001b[0m\u001b[0m\n\u001b[1;32m   3082\u001b[0m     \u001b[0;34m\"\"\"Get a signature object for the passed callable.\"\"\"\u001b[0m\u001b[0;34m\u001b[0m\u001b[0;34m\u001b[0m\u001b[0m\n\u001b[0;32m-> 3083\u001b[0;31m     \u001b[0;32mreturn\u001b[0m \u001b[0mSignature\u001b[0m\u001b[0;34m.\u001b[0m\u001b[0mfrom_callable\u001b[0m\u001b[0;34m(\u001b[0m\u001b[0mobj\u001b[0m\u001b[0;34m,\u001b[0m \u001b[0mfollow_wrapped\u001b[0m\u001b[0;34m=\u001b[0m\u001b[0mfollow_wrapped\u001b[0m\u001b[0;34m)\u001b[0m\u001b[0;34m\u001b[0m\u001b[0;34m\u001b[0m\u001b[0m\n\u001b[0m\u001b[1;32m   3084\u001b[0m \u001b[0;34m\u001b[0m\u001b[0m\n\u001b[1;32m   3085\u001b[0m \u001b[0;34m\u001b[0m\u001b[0m\n",
      "\u001b[0;32m~/anaconda3/envs/chem/lib/python3.7/inspect.py\u001b[0m in \u001b[0;36mfrom_callable\u001b[0;34m(cls, obj, follow_wrapped)\u001b[0m\n\u001b[1;32m   2831\u001b[0m         \u001b[0;34m\"\"\"Constructs Signature for the given callable object.\"\"\"\u001b[0m\u001b[0;34m\u001b[0m\u001b[0;34m\u001b[0m\u001b[0m\n\u001b[1;32m   2832\u001b[0m         return _signature_from_callable(obj, sigcls=cls,\n\u001b[0;32m-> 2833\u001b[0;31m                                         follow_wrapper_chains=follow_wrapped)\n\u001b[0m\u001b[1;32m   2834\u001b[0m \u001b[0;34m\u001b[0m\u001b[0m\n\u001b[1;32m   2835\u001b[0m     \u001b[0;34m@\u001b[0m\u001b[0mproperty\u001b[0m\u001b[0;34m\u001b[0m\u001b[0;34m\u001b[0m\u001b[0m\n",
      "\u001b[0;32m~/anaconda3/envs/chem/lib/python3.7/inspect.py\u001b[0m in \u001b[0;36m_signature_from_callable\u001b[0;34m(obj, follow_wrapper_chains, skip_bound_arg, sigcls)\u001b[0m\n\u001b[1;32m   2248\u001b[0m \u001b[0;34m\u001b[0m\u001b[0m\n\u001b[1;32m   2249\u001b[0m     \u001b[0;32mtry\u001b[0m\u001b[0;34m:\u001b[0m\u001b[0;34m\u001b[0m\u001b[0;34m\u001b[0m\u001b[0m\n\u001b[0;32m-> 2250\u001b[0;31m         \u001b[0mpartialmethod\u001b[0m \u001b[0;34m=\u001b[0m \u001b[0mobj\u001b[0m\u001b[0;34m.\u001b[0m\u001b[0m_partialmethod\u001b[0m\u001b[0;34m\u001b[0m\u001b[0;34m\u001b[0m\u001b[0m\n\u001b[0m\u001b[1;32m   2251\u001b[0m     \u001b[0;32mexcept\u001b[0m \u001b[0mAttributeError\u001b[0m\u001b[0;34m:\u001b[0m\u001b[0;34m\u001b[0m\u001b[0;34m\u001b[0m\u001b[0m\n\u001b[1;32m   2252\u001b[0m         \u001b[0;32mpass\u001b[0m\u001b[0;34m\u001b[0m\u001b[0;34m\u001b[0m\u001b[0m\n",
      "\u001b[0;31mKeyboardInterrupt\u001b[0m: "
     ]
    }
   ],
   "source": [
    "#木の数でプロット\n",
    "tree_num = range(1,500)\n",
    "training_acc1 = []\n",
    "test_acc1 =[]\n",
    "training_acc2 = []\n",
    "test_acc2 =[]\n",
    "training_acc3 = []\n",
    "test_acc3 = []\n",
    "training_acc4 = []\n",
    "test_acc4 =[]\n",
    "training_acc5 = []\n",
    "test_acc5 = []\n",
    "for N in tree_num:\n",
    "    nforest1 = RandomForestClassifier(max_depth=100, n_estimators=N, random_state=0)\n",
    "    nforest2 = RandomForestClassifier(max_depth=100, n_estimators=N, random_state=0)\n",
    "    nforest3 = RandomForestClassifier(max_depth=100, n_estimators=N, random_state=0)\n",
    "    nforest4 = RandomForestClassifier(max_depth=100, n_estimators=N, random_state=0)\n",
    "    nforest5 = RandomForestClassifier(max_depth=100, n_estimators=N, random_state=0)\n",
    "    nforest1.fit(X_train, y_train)\n",
    "    nforest2.fit(X2_train, y2_train)\n",
    "    nforest3.fit(X3_train, y3_train)\n",
    "    nforest4.fit(X4_train, y4_train)\n",
    "    nforest5.fit(X5_train, y5_train)\n",
    "    training_acc1.append(nforest1.score(X_train, y_train))\n",
    "    test_acc1.append(nforest1.score(X_test, y_test))\n",
    "    training_acc2.append(nforest2.score(X2_train, y2_train))\n",
    "    test_acc2.append(nforest2.score(X2_test, y2_test))\n",
    "    training_acc3.append(nforest3.score(X3_train, y3_train))\n",
    "    test_acc3.append(nforest3.score(X3_test, y3_test))\n",
    "    training_acc4.append(nforest4.score(X4_train, y4_train))\n",
    "    test_acc4.append(nforest4.score(X4_test, y4_test))\n",
    "    training_acc5.append(nforest5.score(X5_train, y5_train))\n",
    "    test_acc5.append(nforest5.score(X5_test, y5_test))"
   ]
  },
  {
   "cell_type": "code",
   "execution_count": null,
   "id": "df3b8eb6-f9dd-44f6-824a-e08b75840669",
   "metadata": {},
   "outputs": [],
   "source": [
    "#graph化\n",
    "fig = plt.figure(figsize=(15.0,10.0))\n",
    "\n",
    "#Only Rdkit Finger Print\n",
    "ax1 = fig.add_subplot(2, 3, 1)\n",
    "ax1.plot(tree_num, training_acc1, label = 'train')\n",
    "ax1.plot(tree_num, test_acc1, label = 'test')\n",
    "ax1.set_title('Only Rdkit Finger Print')\n",
    "\n",
    "#Only Calculation Results\n",
    "ax2 = fig.add_subplot(2, 3, 2)\n",
    "ax2.plot(tree_num, training_acc2, label = 'train')\n",
    "ax2.plot(tree_num, test_acc2, label = 'test')\n",
    "ax2.set_title('Only Calculation Results')\n",
    "\n",
    "#Calculation Results + Rdkit Finger Print\n",
    "ax3 = fig.add_subplot(2, 3, 3)\n",
    "ax3.plot(tree_num, training_acc3, label = 'train')\n",
    "ax3.plot(tree_num, test_acc3, label = 'test')\n",
    "ax3.set_title('Calculation Results + Rdkit Finger Print')\n",
    "\n",
    "#Only Rescaled Calculation Results\n",
    "ax4 = fig.add_subplot(2, 3, 4)\n",
    "ax4.plot(tree_num, training_acc4, label = 'train')\n",
    "ax4.plot(tree_num, test_acc4, label = 'test')\n",
    "ax4.set_title('Only Rescaled Calculation Results')\n",
    "\n",
    "#Rescaled Calculation Results + Rdkit Finger Print\n",
    "ax5 = fig.add_subplot(2, 3, 5)\n",
    "ax5.plot(tree_num, training_acc5, label = 'train')\n",
    "ax5.plot(tree_num, test_acc5, label = 'test')\n",
    "ax5.set_title('Rescaled Calculation Results + Rdkit Finger Print')\n",
    "\n",
    "# 軸の一覧取得\n",
    "axs = plt.gcf().get_axes()\n",
    "\n",
    "# 軸毎にループ\n",
    "for ax in axs:\n",
    "    # 現在の軸を変更\n",
    "    plt.axes(ax)\n",
    "    \n",
    "    # 凡例を表示\n",
    "    plt.legend(loc=5)\n",
    "\n",
    "    # グリッド\n",
    "    plt.grid(linestyle='--')\n",
    "\n",
    "    # 軸ラベル\n",
    "    plt.xlabel('tree_num')\n",
    "    plt.ylabel('accuracy')\n",
    "    \n",
    "plt.tight_layout()\n",
    "plt.show()"
   ]
  },
  {
   "cell_type": "code",
   "execution_count": null,
   "id": "6c3dc4fc-fffb-45ab-98b5-eaa21d28b6a0",
   "metadata": {},
   "outputs": [],
   "source": [
    "#graph化(拡大)\n",
    "fig = plt.figure(figsize=(15.0,10.0))\n",
    "\n",
    "#Only Rdkit Finger Print\n",
    "ax1 = fig.add_subplot(2, 3, 1)\n",
    "ax1.plot(tree_num[0:100], training_acc1[0:100], label = 'train')\n",
    "ax1.plot(tree_num[0:100], test_acc1[0:100], label = 'test')\n",
    "ax1.set_title('Only Rdkit Finger Print')\n",
    "\n",
    "#Only Calculation Results\n",
    "ax2 = fig.add_subplot(2, 3, 2)\n",
    "ax2.plot(tree_num[0:100], training_acc2[0:100], label = 'train')\n",
    "ax2.plot(tree_num[0:100], test_acc2[0:100], label = 'test')\n",
    "ax2.set_title('Only Calculation Results')\n",
    "\n",
    "#Calculation Results + Rdkit Finger Print\n",
    "ax3 = fig.add_subplot(2, 3, 3)\n",
    "ax3.plot(tree_num[0:100], training_acc3[0:100], label = 'train')\n",
    "ax3.plot(tree_num[0:100], test_acc3[0:100], label = 'test')\n",
    "ax3.set_title('Calculation Results + Rdkit Finger Print')\n",
    "\n",
    "#Only Rescaled Calculation Results\n",
    "ax4 = fig.add_subplot(2, 3, 4)\n",
    "ax4.plot(tree_num[0:100], training_acc4[0:100], label = 'train')\n",
    "ax4.plot(tree_num[0:100], test_acc4[0:100], label = 'test')\n",
    "ax4.set_title('Only Rescaled Calculation Results')\n",
    "\n",
    "#Rescaled Calculation Results + Rdkit Finger Print\n",
    "ax5 = fig.add_subplot(2, 3, 5)\n",
    "ax5.plot(tree_num[0:100], training_acc5[0:100], label = 'train')\n",
    "ax5.plot(tree_num[0:100], test_acc5[0:100], label = 'test')\n",
    "ax5.set_title('Rescaled Calculation Results + Rdkit Finger Print')\n",
    "\n",
    "# 軸の一覧取得\n",
    "axs = plt.gcf().get_axes()\n",
    "\n",
    "# 軸毎にループ\n",
    "for ax in axs:\n",
    "    # 現在の軸を変更\n",
    "    plt.axes(ax)\n",
    "    \n",
    "    # 凡例を表示\n",
    "    plt.legend(loc=5)\n",
    "\n",
    "    # グリッド\n",
    "    plt.grid(linestyle='--')\n",
    "\n",
    "    # 軸ラベル\n",
    "    plt.xlabel('tree_num')\n",
    "    plt.ylabel('accuracy')\n",
    "    \n",
    "plt.tight_layout()\n",
    "plt.show()"
   ]
  }
 ],
 "metadata": {
  "kernelspec": {
   "display_name": "Python 3 (ipykernel)",
   "language": "python",
   "name": "python3"
  },
  "language_info": {
   "codemirror_mode": {
    "name": "ipython",
    "version": 3
   },
   "file_extension": ".py",
   "mimetype": "text/x-python",
   "name": "python",
   "nbconvert_exporter": "python",
   "pygments_lexer": "ipython3",
   "version": "3.7.10"
  }
 },
 "nbformat": 4,
 "nbformat_minor": 5
}
