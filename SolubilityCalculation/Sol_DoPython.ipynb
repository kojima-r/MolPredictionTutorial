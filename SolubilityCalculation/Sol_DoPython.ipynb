{
 "cells": [
  {
   "cell_type": "code",
   "execution_count": 17,
   "id": "18b0be48-3c0c-4f0c-844b-38b5c4f63067",
   "metadata": {},
   "outputs": [
    {
     "name": "stdout",
     "output_type": "stream",
     "text": [
      "[15:48:48] SMILES Parse Error: syntax error while parsing: n(H)(c(c(c1cccc2)ccc3)c3)c12\n",
      "[15:48:48] SMILES Parse Error: Failed parsing SMILES 'n(H)(c(c(c1cccc2)ccc3)c3)c12' for input: 'n(H)(c(c(c1cccc2)ccc3)c3)c12'\n",
      "[15:48:48] SMILES Parse Error: syntax error while parsing: c1ccc4c(c1)ccc5c3ccc2ccccc2c3n(H)c45\n",
      "[15:48:48] SMILES Parse Error: Failed parsing SMILES 'c1ccc4c(c1)ccc5c3ccc2ccccc2c3n(H)c45' for input: 'c1ccc4c(c1)ccc5c3ccc2ccccc2c3n(H)c45'\n",
      "[15:48:48] SMILES Parse Error: syntax error while parsing: O=C(O)CC(c(c(N1(H))ccc2)c2)=C1\n",
      "[15:48:48] SMILES Parse Error: Failed parsing SMILES 'O=C(O)CC(c(c(N1(H))ccc2)c2)=C1' for input: 'O=C(O)CC(c(c(N1(H))ccc2)c2)=C1'\n",
      "[15:48:48] SMILES Parse Error: syntax error while parsing: c1ccc2c(C)cn(H)c2c1\n",
      "[15:48:48] SMILES Parse Error: Failed parsing SMILES 'c1ccc2c(C)cn(H)c2c1' for input: 'c1ccc2c(C)cn(H)c2c1'\n",
      "[15:48:48] SMILES Parse Error: syntax error while parsing: c1ccc2n(H)nnc2c1\n",
      "[15:48:48] SMILES Parse Error: Failed parsing SMILES 'c1ccc2n(H)nnc2c1' for input: 'c1ccc2n(H)nnc2c1'\n",
      "[15:48:48] SMILES Parse Error: syntax error while parsing: c1cccn1(H)\n",
      "[15:48:48] SMILES Parse Error: Failed parsing SMILES 'c1cccn1(H)' for input: 'c1cccn1(H)'\n",
      "[15:48:48] SMILES Parse Error: syntax error while parsing: c1ccc2ccn(H)c2c1\n",
      "[15:48:48] SMILES Parse Error: Failed parsing SMILES 'c1ccc2ccn(H)c2c1' for input: 'c1ccc2ccn(H)c2c1'\n",
      "[15:48:48] Can't kekulize mol.  Unkekulized atoms: 0 1 2 3 4 5 6 7 8\n",
      "\n",
      "[15:48:48] SMILES Parse Error: syntax error while parsing: N(c(c(N1(H))ccc2)c2)=C1C\n",
      "[15:48:48] SMILES Parse Error: Failed parsing SMILES 'N(c(c(N1(H))ccc2)c2)=C1C' for input: 'N(c(c(N1(H))ccc2)c2)=C1C'\n",
      "[15:48:48] Can't kekulize mol.  Unkekulized atoms: 0 1 2 4 5 6 7 8 9\n",
      "\n",
      "[15:48:48] Can't kekulize mol.  Unkekulized atoms: 8 9 10 11 12\n",
      "\n",
      "[15:48:48] SMILES Parse Error: syntax error while parsing: c1ccc2C=CC(=O)N(H)c2c1\n",
      "[15:48:48] SMILES Parse Error: Failed parsing SMILES 'c1ccc2C=CC(=O)N(H)c2c1' for input: 'c1ccc2C=CC(=O)N(H)c2c1'\n",
      "[15:48:48] SMILES Parse Error: syntax error while parsing: c1c(C(=O)c3ccccc3)cc2nc(NC(=O)OC)n(H)c2c1\n",
      "[15:48:48] SMILES Parse Error: Failed parsing SMILES 'c1c(C(=O)c3ccccc3)cc2nc(NC(=O)OC)n(H)c2c1' for input: 'c1c(C(=O)c3ccccc3)cc2nc(NC(=O)OC)n(H)c2c1'\n",
      "[15:48:48] Can't kekulize mol.  Unkekulized atoms: 1 2 3 4 5\n",
      "\n",
      "[15:48:48] Can't kekulize mol.  Unkekulized atoms: 3 4 5 6 7\n",
      "\n",
      "[15:48:48] Can't kekulize mol.  Unkekulized atoms: 0 1 2 3 4 5 6 7 9\n",
      "\n",
      "[15:48:48] SMILES Parse Error: syntax error while parsing: c1ccc2c(CC(CC)N)cn(H)c2c1\n",
      "[15:48:48] SMILES Parse Error: Failed parsing SMILES 'c1ccc2c(CC(CC)N)cn(H)c2c1' for input: 'c1ccc2c(CC(CC)N)cn(H)c2c1'\n",
      "[15:48:48] SMILES Parse Error: syntax error while parsing: N#CC(c2ccccc2)OC3(C(C(O)(H)C(C(O3)(COC1(C(C(O)(H)C(C(O1)(CO)H)(O)H)(O)H)H)H)(O)H)(O)H)H\n",
      "[15:48:48] SMILES Parse Error: Failed parsing SMILES 'N#CC(c2ccccc2)OC3(C(C(O)(H)C(C(O3)(COC1(C(C(O)(H)C(C(O1)(CO)H)(O)H)(O)H)H)H)(O)H)(O)H)H' for input: 'N#CC(c2ccccc2)OC3(C(C(O)(H)C(C(O3)(COC1(C(C(O)(H)C(C(O1)(CO)H)(O)H)(O)H)H)H)(O)H)(O)H)H'\n",
      "Traceback (most recent call last):\n",
      "  File \"Sol_SampleCalculationFromSmiles.py\", line 28, in <module>\n",
      "    last_data_idx = edited_dataset.index.get_loc([edited_dataset.ID == last_data_ID])\n",
      "  File \"/home/kuma/anaconda3/envs/chem/lib/python3.7/site-packages/pandas/core/indexes/base.py\", line 3080, in get_loc\n",
      "    return self._engine.get_loc(casted_key)\n",
      "  File \"pandas/_libs/index.pyx\", line 70, in pandas._libs.index.IndexEngine.get_loc\n",
      "  File \"pandas/_libs/index.pyx\", line 75, in pandas._libs.index.IndexEngine.get_loc\n",
      "TypeError: '[0       False\n",
      "1       False\n",
      "2       False\n",
      "3       False\n",
      "4       False\n",
      "        ...  \n",
      "1273    False\n",
      "1274    False\n",
      "1275    False\n",
      "1276    False\n",
      "1277    False\n",
      "Name: ID, Length: 1260, dtype: bool]' is an invalid key\n"
     ]
    }
   ],
   "source": [
    "! python Sol_SampleCalculationFromSmiles.py"
   ]
  }
 ],
 "metadata": {
  "kernelspec": {
   "display_name": "Python 3 (ipykernel)",
   "language": "python",
   "name": "python3"
  },
  "language_info": {
   "codemirror_mode": {
    "name": "ipython",
    "version": 3
   },
   "file_extension": ".py",
   "mimetype": "text/x-python",
   "name": "python",
   "nbconvert_exporter": "python",
   "pygments_lexer": "ipython3",
   "version": "3.7.10"
  }
 },
 "nbformat": 4,
 "nbformat_minor": 5
}
