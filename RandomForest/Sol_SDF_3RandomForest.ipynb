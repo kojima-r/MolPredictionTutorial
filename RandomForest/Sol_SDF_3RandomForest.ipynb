{
 "cells": [
  {
   "cell_type": "code",
   "execution_count": 1,
   "id": "4c99b9d3-9926-4ecc-a1f8-781d17fb8284",
   "metadata": {},
   "outputs": [
    {
     "name": "stdout",
     "output_type": "stream",
     "text": [
      "there are 1214 molecules\n"
     ]
    }
   ],
   "source": [
    "#rdkit関連のimport\n",
    "from rdkit import Chem\n",
    "from rdkit.Chem import PandasTools\n",
    "\n",
    "#randamforest\n",
    "from sklearn.ensemble import RandomForestClassifier\n",
    "from sklearn.model_selection import train_test_split\n",
    "from sklearn.metrics import confusion_matrix\n",
    "from sklearn.metrics import accuracy_score\n",
    "from sklearn.metrics import classification_report\n",
    "\n",
    "#その他のimport\n",
    "import matplotlib as mpl\n",
    "import matplotlib.pyplot as plt\n",
    "import seaborn as sns\n",
    "import pandas as pd\n",
    "import glob\n",
    "import re\n",
    "\n",
    "#データの規格化\n",
    "def rescaling(features):\n",
    "    norm_features = []\n",
    "    max_value = max(features)\n",
    "    min_value = min(features)\n",
    "    for feature in features:\n",
    "        norm_feature = (feature - min_value)/(max_value - min_value)\n",
    "        norm_features.append(norm_feature)\n",
    "    \n",
    "    return norm_features\n",
    "\n",
    "#SDFファイルの読み込み\n",
    "mol_list  = Chem.SDMolSupplier(\"../../ForMolPredict/SDF_files/SOL/SOL_AllMOL.sdf\",removeHs=False) \n",
    "mol_num = len(mol_list)\n",
    "print(\"there are {} molecules\".format(mol_num))"
   ]
  },
  {
   "cell_type": "code",
   "execution_count": 2,
   "id": "ad43d90a-e224-4f44-8af1-e5ea759509c2",
   "metadata": {},
   "outputs": [],
   "source": [
    "#データの抽出\n",
    "SOL_class_list = [mol.GetProp('SOL_class') for mol in mol_list]\n",
    "mol_props = ['Volume', 'Energy', 'HOMO', 'LUMO', 'HLgap', 'Mcharge_ave', 'Mcharge_var', 'Lcharge_ave', 'Lcharge_var', 'dipole', 'Atom_num', 'Mass', 'Density']\n",
    "rdkit_fp = []\n",
    "calc_list = []\n",
    "for mol in mol_list:\n",
    "    fp = [x for x in Chem.RDKFingerprint(mol)]\n",
    "    rdkit_fp.append(fp)\n",
    "    mol_data = [mol.GetDoubleProp(prop) for prop in mol_props]\n",
    "    calc_list.append(mol_data)\n",
    "FP_df = pd.DataFrame(rdkit_fp)\n",
    "Calc_df = pd.DataFrame(calc_list, columns=mol_props)\n",
    "FC_df = pd.concat([Calc_df, FP_df], axis=1 )"
   ]
  },
  {
   "cell_type": "code",
   "execution_count": 3,
   "id": "235df194-1ae2-4cb5-bc9a-d5f9a87dd142",
   "metadata": {},
   "outputs": [],
   "source": [
    "#Rescaling\n",
    "resc_list = []\n",
    "for prop_name, prop_data in Calc_df.iteritems():\n",
    "    resc_list.append(rescaling(prop_data))\n",
    "rescCalc_df = pd.DataFrame(resc_list, index=mol_props)\n",
    "rescCalc_df = rescCalc_df.T\n",
    "rescFC_df = pd.concat([rescCalc_df, FP_df], axis=1 )"
   ]
  },
  {
   "cell_type": "code",
   "execution_count": 4,
   "id": "2791b1a5-560a-4eb9-927c-784c1eca41ba",
   "metadata": {},
   "outputs": [
    {
     "name": "stdout",
     "output_type": "stream",
     "text": [
      "number of Fingerprint: 2048\n",
      "number of Calclation Data: 13\n",
      "number of All Data: 2061\n",
      "number of Rescaled Calclation Data: 13\n",
      "number of Rescaled All Data: 2061\n"
     ]
    }
   ],
   "source": [
    "print('number of Fingerprint:',len(FP_df.columns))\n",
    "print('number of Calclation Data:', len(Calc_df.columns))\n",
    "print('number of All Data:', len(FC_df.columns))\n",
    "print('number of Rescaled Calclation Data:', len(rescCalc_df.columns))\n",
    "print('number of Rescaled All Data:', len(rescFC_df.columns))"
   ]
  },
  {
   "cell_type": "code",
   "execution_count": 5,
   "id": "740a06b2-a589-4dd0-ac75-def1410b57c2",
   "metadata": {},
   "outputs": [
    {
     "name": "stdout",
     "output_type": "stream",
     "text": [
      "number of (A) low:  484\n",
      "number of (B) medium:  491\n",
      "number of (C) high:  239\n"
     ]
    }
   ],
   "source": [
    "#activityのカウント\n",
    "print('number of (A) low: ',SOL_class_list.count('(A) low'))\n",
    "print('number of (B) medium: ',SOL_class_list.count('(B) medium'))\n",
    "print('number of (C) high: ',SOL_class_list.count('(C) high'))"
   ]
  },
  {
   "cell_type": "code",
   "execution_count": 6,
   "id": "bd7755f0-6a93-491f-a9ac-aba9211e80ae",
   "metadata": {},
   "outputs": [
    {
     "name": "stdout",
     "output_type": "stream",
     "text": [
      "=======Only Rdkit Finger Print========\n",
      "train accuracy: 0.995\n",
      "accuracy: 0.734\n",
      "=======Only Calculation Results========\n",
      "train accuracy: 1.000\n",
      "accuracy: 0.819\n",
      "=======Calculation Results + Rdkit Finger Print========\n",
      "train accuracy: 1.000\n",
      "test accuracy: 0.766\n",
      "/////////////Rescaled Results//////////////\n",
      "=======Only Calculation Results========\n",
      "train accuracy: 1.000\n",
      "test accuracy: 0.819\n",
      "=======Calculation Results + Rdkit Finger Print========\n",
      "train accuracy: 1.000\n",
      "test accuracy: 0.714\n"
     ]
    }
   ],
   "source": [
    "#Only Rdkit Finger Print\n",
    "X_train, X_test, y_train, y_test = train_test_split(FP_df, SOL_class_list, random_state=0)#test_size=0.25(default)\n",
    "forest = RandomForestClassifier(max_depth=100, n_estimators=500, random_state=0)\n",
    "forest.fit(X_train, y_train)\n",
    "y_pred = forest.predict(X_test) #予測値算出\n",
    "print('=======Only Rdkit Finger Print========')\n",
    "print('train accuracy: {:.3f}'.format(forest.score(X_train, y_train)))\n",
    "print('accuracy: {:.3f}'.format(accuracy_score(y_test, y_pred)))\n",
    "#Only Calculation Results\n",
    "X2_train, X2_test, y2_train, y2_test = train_test_split(Calc_df, SOL_class_list, random_state=0)\n",
    "forest2 = RandomForestClassifier(max_depth=100, n_estimators=500, random_state=0)\n",
    "forest2.fit(X2_train, y2_train)\n",
    "y2_pred = forest2.predict(X2_test) #予測値算出\n",
    "print('=======Only Calculation Results========')\n",
    "print('train accuracy: {:.3f}'.format(forest2.score(X2_train, y2_train)))\n",
    "print('accuracy: {:.3f}'.format(accuracy_score(y2_test, y2_pred)))\n",
    "#Calculation Results + Rdkit Finger Print\n",
    "X3_train, X3_test, y3_train, y3_test = train_test_split(FC_df, SOL_class_list, random_state=0)\n",
    "forest3 = RandomForestClassifier(max_depth=100, n_estimators=500, random_state=0)\n",
    "forest3.fit(X3_train, y3_train)\n",
    "y3_pred = forest3.predict(X3_test) #予測値算出\n",
    "print('=======Calculation Results + Rdkit Finger Print========')\n",
    "print('train accuracy: {:.3f}'.format(forest3.score(X3_train, y3_train)))\n",
    "print('test accuracy: {:.3f}'.format(accuracy_score(y3_test, y3_pred)))\n",
    "print('/////////////Rescaled Results//////////////')\n",
    "#Only Calculation Results\n",
    "X4_train, X4_test, y4_train, y4_test = train_test_split(rescCalc_df, SOL_class_list, random_state=0)\n",
    "forest4 = RandomForestClassifier(max_depth=100, n_estimators=500, random_state=0)\n",
    "forest4.fit(X4_train, y4_train)\n",
    "y4_pred = forest4.predict(X4_test) #予測値算出\n",
    "print('=======Only Calculation Results========')\n",
    "print('train accuracy: {:.3f}'.format(forest4.score(X4_train, y4_train)))\n",
    "print('test accuracy: {:.3f}'.format(accuracy_score(y4_test, y4_pred)))\n",
    "#Calculation Results + Rdkit Finger Print\n",
    "X5_train, X5_test, y5_train, y5_test = train_test_split(rescFC_df, SOL_class_list, random_state=0)\n",
    "forest5 = RandomForestClassifier(max_depth=100, n_estimators=500, random_state=0)\n",
    "forest5.fit(X5_train, y5_train)\n",
    "y5_pred = forest3.predict(X5_test) #予測値算出\n",
    "print('=======Calculation Results + Rdkit Finger Print========')\n",
    "print('train accuracy: {:.3f}'.format(forest5.score(X5_train, y5_train)))\n",
    "print('test accuracy: {:.3f}'.format(accuracy_score(y5_test, y5_pred)))"
   ]
  },
  {
   "cell_type": "code",
   "execution_count": 7,
   "id": "af498f0d-6a1d-483a-801d-abee511c0859",
   "metadata": {},
   "outputs": [
    {
     "name": "stdout",
     "output_type": "stream",
     "text": [
      "=======Only Rdkit Finger Print========\n",
      "              precision    recall  f1-score   support\n",
      "\n",
      "     (A) low       0.72      0.86      0.78       118\n",
      "  (B) medium       0.74      0.64      0.69       134\n",
      "    (C) high       0.78      0.67      0.72        52\n",
      "\n",
      "    accuracy                           0.73       304\n",
      "   macro avg       0.74      0.73      0.73       304\n",
      "weighted avg       0.74      0.73      0.73       304\n",
      "\n",
      "=======Only Calculation Results========\n",
      "              precision    recall  f1-score   support\n",
      "\n",
      "     (A) low       0.82      0.87      0.85       118\n",
      "  (B) medium       0.80      0.80      0.80       134\n",
      "    (C) high       0.87      0.75      0.80        52\n",
      "\n",
      "    accuracy                           0.82       304\n",
      "   macro avg       0.83      0.81      0.82       304\n",
      "weighted avg       0.82      0.82      0.82       304\n",
      "\n",
      "=======Calculation Results + Rdkit Finger Print========\n",
      "              precision    recall  f1-score   support\n",
      "\n",
      "     (A) low       0.77      0.87      0.82       118\n",
      "  (B) medium       0.75      0.71      0.73       134\n",
      "    (C) high       0.80      0.67      0.73        52\n",
      "\n",
      "    accuracy                           0.77       304\n",
      "   macro avg       0.77      0.75      0.76       304\n",
      "weighted avg       0.77      0.77      0.76       304\n",
      "\n",
      "/////////////Rescaled Results//////////////\n",
      "=======Only Calculation Results========\n",
      "              precision    recall  f1-score   support\n",
      "\n",
      "     (A) low       0.82      0.86      0.84       118\n",
      "  (B) medium       0.80      0.80      0.80       134\n",
      "    (C) high       0.89      0.77      0.82        52\n",
      "\n",
      "    accuracy                           0.82       304\n",
      "   macro avg       0.83      0.81      0.82       304\n",
      "weighted avg       0.82      0.82      0.82       304\n",
      "\n",
      "=======Calculation Results + Rdkit Finger Print========\n",
      "              precision    recall  f1-score   support\n",
      "\n",
      "     (A) low       0.82      0.67      0.74       118\n",
      "  (B) medium       0.67      0.75      0.71       134\n",
      "    (C) high       0.64      0.73      0.68        52\n",
      "\n",
      "    accuracy                           0.71       304\n",
      "   macro avg       0.71      0.72      0.71       304\n",
      "weighted avg       0.73      0.71      0.72       304\n",
      "\n"
     ]
    }
   ],
   "source": [
    "#activityごとの評価\n",
    "print('=======Only Rdkit Finger Print========')\n",
    "print(classification_report(y_test,y_pred))\n",
    "print('=======Only Calculation Results========')\n",
    "print(classification_report(y2_test,y2_pred))\n",
    "print('=======Calculation Results + Rdkit Finger Print========')\n",
    "print(classification_report(y3_test,y3_pred))\n",
    "print('/////////////Rescaled Results//////////////')\n",
    "print('=======Only Calculation Results========')\n",
    "print(classification_report(y4_test,y4_pred))\n",
    "print('=======Calculation Results + Rdkit Finger Print========')\n",
    "print(classification_report(y5_test,y5_pred))"
   ]
  },
  {
   "cell_type": "code",
   "execution_count": 8,
   "id": "d75fef0c-1025-4ad7-b29b-2cef1c330e8d",
   "metadata": {},
   "outputs": [
    {
     "name": "stdout",
     "output_type": "stream",
     "text": [
      "=======Only Rdkit Finger Print========\n"
     ]
    },
    {
     "data": {
      "text/plain": [
       "Text(91.68, 0.5, 'true value')"
      ]
     },
     "execution_count": 8,
     "metadata": {},
     "output_type": "execute_result"
    },
    {
     "data": {
      "image/png": "[encoded data removed]",
      "text/plain": [
       "<Figure size 432x288 with 1 Axes>"
      ]
     },
     "metadata": {
      "needs_background": "light"
     },
     "output_type": "display_data"
    }
   ],
   "source": [
    "#confusion matrix\n",
    "print('=======Only Rdkit Finger Print========')\n",
    "matrix_fp = confusion_matrix(y_test, y_pred)\n",
    "sns.heatmap(matrix_fp, square=True, annot=True, cbar=False, fmt='d', cmap='RdPu')\n",
    "plt.xlabel('solubility')\n",
    "plt.ylabel('true value')"
   ]
  },
  {
   "cell_type": "code",
   "execution_count": 9,
   "id": "a5f5e3ae-396b-4dd3-b8cd-e52c5c215135",
   "metadata": {},
   "outputs": [
    {
     "name": "stdout",
     "output_type": "stream",
     "text": [
      "=======Only Calculation Results========\n"
     ]
    },
    {
     "data": {
      "text/plain": [
       "Text(91.68, 0.5, 'true value')"
      ]
     },
     "execution_count": 9,
     "metadata": {},
     "output_type": "execute_result"
    },
    {
     "data": {
      "image/png": "[encoded data removed]",
      "text/plain": [
       "<Figure size 432x288 with 1 Axes>"
      ]
     },
     "metadata": {
      "needs_background": "light"
     },
     "output_type": "display_data"
    }
   ],
   "source": [
    "#confusion matrix\n",
    "print('=======Only Calculation Results========')\n",
    "matrix_calc = confusion_matrix(y2_test, y2_pred)\n",
    "sns.heatmap(matrix_calc, square=True, annot=True, cbar=False, fmt='d', cmap='RdPu')\n",
    "plt.xlabel('solubility')\n",
    "plt.ylabel('true value')"
   ]
  },
  {
   "cell_type": "code",
   "execution_count": 10,
   "id": "5f74f7bc-2848-4d60-9b53-21b2cbea86ba",
   "metadata": {},
   "outputs": [
    {
     "name": "stdout",
     "output_type": "stream",
     "text": [
      "=======Calculation Results + Rdkit Finger Print========\n"
     ]
    },
    {
     "data": {
      "text/plain": [
       "Text(91.68, 0.5, 'true value')"
      ]
     },
     "execution_count": 10,
     "metadata": {},
     "output_type": "execute_result"
    },
    {
     "data": {
      "image/png": "[encoded data removed]",
      "text/plain": [
       "<Figure size 432x288 with 1 Axes>"
      ]
     },
     "metadata": {
      "needs_background": "light"
     },
     "output_type": "display_data"
    }
   ],
   "source": [
    "#confusion matrix\n",
    "print('=======Calculation Results + Rdkit Finger Print========')\n",
    "matrix_FC = confusion_matrix(y3_test, y3_pred)\n",
    "sns.heatmap(matrix_FC, square=True, annot=True, cbar=False, fmt='d', cmap='RdPu')\n",
    "plt.xlabel('solubility')\n",
    "plt.ylabel('true value')"
   ]
  },
  {
   "cell_type": "code",
   "execution_count": 11,
   "id": "230a9e24-f3e1-4fcd-8813-d26f36fdace4",
   "metadata": {},
   "outputs": [
    {
     "name": "stdout",
     "output_type": "stream",
     "text": [
      "=======Only Rescaled Calculation Results========\n"
     ]
    },
    {
     "data": {
      "text/plain": [
       "Text(91.68, 0.5, 'true value')"
      ]
     },
     "execution_count": 11,
     "metadata": {},
     "output_type": "execute_result"
    },
    {
     "data": {
      "image/png": "[encoded data removed]",
      "text/plain": [
       "<Figure size 432x288 with 1 Axes>"
      ]
     },
     "metadata": {
      "needs_background": "light"
     },
     "output_type": "display_data"
    }
   ],
   "source": [
    "#confusion matrix\n",
    "print('=======Only Rescaled Calculation Results========')\n",
    "matrix_calc = confusion_matrix(y4_test, y4_pred)\n",
    "sns.heatmap(matrix_calc, square=True, annot=True, cbar=False, fmt='d', cmap='RdPu')\n",
    "plt.xlabel('solubility')\n",
    "plt.ylabel('true value')"
   ]
  },
  {
   "cell_type": "code",
   "execution_count": 12,
   "id": "b919313d-f4e4-407b-8ad4-8135f090892f",
   "metadata": {},
   "outputs": [
    {
     "name": "stdout",
     "output_type": "stream",
     "text": [
      "=======Rescaled Calculation Results + Rdkit Finger Print========\n"
     ]
    },
    {
     "data": {
      "text/plain": [
       "Text(91.68, 0.5, 'true value')"
      ]
     },
     "execution_count": 12,
     "metadata": {},
     "output_type": "execute_result"
    },
    {
     "data": {
      "image/png": "[encoded data removed]",
      "text/plain": [
       "<Figure size 432x288 with 1 Axes>"
      ]
     },
     "metadata": {
      "needs_background": "light"
     },
     "output_type": "display_data"
    }
   ],
   "source": [
    "#confusion matrix\n",
    "print('=======Rescaled Calculation Results + Rdkit Finger Print========')\n",
    "matrix_FC = confusion_matrix(y5_test, y5_pred)\n",
    "sns.heatmap(matrix_FC, square=True, annot=True, cbar=False, fmt='d', cmap='RdPu')\n",
    "plt.xlabel('solubility')\n",
    "plt.ylabel('true value')"
   ]
  },
  {
   "cell_type": "code",
   "execution_count": 13,
   "id": "09d3c274-29d5-4206-948f-56be189942a9",
   "metadata": {},
   "outputs": [],
   "source": [
    "# Feature Importance\n",
    "fti = forest.feature_importances_  \n",
    "fti2 = forest2.feature_importances_  \n",
    "fti3 = forest3.feature_importances_  \n",
    "fti4 = forest4.feature_importances_  \n",
    "fti5 = forest5.feature_importances_ \n",
    "fti_df = pd.DataFrame(fti, columns = ['importance'])\n",
    "fti_Calc_index = mol_props\n",
    "fti_FC_index = mol_props+list(fti_df.index)\n",
    "fti2_df = pd.DataFrame(fti2, columns =  ['importance'], index = fti_Calc_index)\n",
    "fti3_df = pd.DataFrame(fti3, columns =  ['importance'], index = fti_FC_index)\n",
    "fti4_df = pd.DataFrame(fti4, columns =  ['importance'], index = fti_Calc_index)\n",
    "fti5_df = pd.DataFrame(fti5, columns =  ['importance'], index = fti_FC_index)\n",
    "#sort\n",
    "fti_df = fti_df.sort_values(\"importance\", ascending=False)\n",
    "fti2_df = fti2_df.sort_values(\"importance\", ascending=False)\n",
    "fti3_df = fti3_df.sort_values(\"importance\", ascending=False)\n",
    "fti4_df = fti4_df.sort_values(\"importance\", ascending=False)\n",
    "fti5_df = fti5_df.sort_values(\"importance\", ascending=False)"
   ]
  },
  {
   "cell_type": "code",
   "execution_count": 14,
   "id": "759e5561-bb97-42ad-a3bd-fad07e6b9e59",
   "metadata": {},
   "outputs": [
    {
     "name": "stdout",
     "output_type": "stream",
     "text": [
      "=======Only Rdkit Finger Print========\n"
     ]
    },
    {
     "data": {
      "text/plain": [
       "<AxesSubplot:>"
      ]
     },
     "execution_count": 14,
     "metadata": {},
     "output_type": "execute_result"
    },
    {
     "data": {
      "text/plain": [
       "<Figure size 432x288 with 0 Axes>"
      ]
     },
     "metadata": {},
     "output_type": "display_data"
    },
    {
     "data": {
      "image/png": "[encoded data removed]",
      "text/plain": [
       "<Figure size 432x288 with 1 Axes>"
      ]
     },
     "metadata": {
      "needs_background": "light"
     },
     "output_type": "display_data"
    }
   ],
   "source": [
    "print('=======Only Rdkit Finger Print========')\n",
    "plt.figure()\n",
    "fti_df[:20].plot.bar() #Top20"
   ]
  },
  {
   "cell_type": "code",
   "execution_count": 15,
   "id": "9843e639-76e1-4789-9325-e8b2815b77b2",
   "metadata": {},
   "outputs": [
    {
     "name": "stdout",
     "output_type": "stream",
     "text": [
      "=======Only Calculation Results========\n"
     ]
    },
    {
     "data": {
      "text/plain": [
       "<AxesSubplot:>"
      ]
     },
     "execution_count": 15,
     "metadata": {},
     "output_type": "execute_result"
    },
    {
     "data": {
      "text/plain": [
       "<Figure size 432x288 with 0 Axes>"
      ]
     },
     "metadata": {},
     "output_type": "display_data"
    },
    {
     "data": {
      "image/png": "[encoded data removed]",
      "text/plain": [
       "<Figure size 432x288 with 1 Axes>"
      ]
     },
     "metadata": {
      "needs_background": "light"
     },
     "output_type": "display_data"
    }
   ],
   "source": [
    "print('=======Only Calculation Results========')\n",
    "plt.figure()\n",
    "fti2_df[:20].plot.bar() #Top20"
   ]
  },
  {
   "cell_type": "code",
   "execution_count": 16,
   "id": "cdb23dc6-892c-44f1-9a44-4ae1fd5cccf9",
   "metadata": {},
   "outputs": [
    {
     "name": "stdout",
     "output_type": "stream",
     "text": [
      "=======Calculation Results + Rdkit Finger Print========\n"
     ]
    },
    {
     "data": {
      "text/plain": [
       "<AxesSubplot:>"
      ]
     },
     "execution_count": 16,
     "metadata": {},
     "output_type": "execute_result"
    },
    {
     "data": {
      "text/plain": [
       "<Figure size 432x288 with 0 Axes>"
      ]
     },
     "metadata": {},
     "output_type": "display_data"
    },
    {
     "data": {
      "image/png": "[encoded data removed]",
      "text/plain": [
       "<Figure size 432x288 with 1 Axes>"
      ]
     },
     "metadata": {
      "needs_background": "light"
     },
     "output_type": "display_data"
    }
   ],
   "source": [
    "print('=======Calculation Results + Rdkit Finger Print========')\n",
    "plt.figure()\n",
    "fti3_df[:20].plot.bar() #Top20"
   ]
  },
  {
   "cell_type": "code",
   "execution_count": 17,
   "id": "3fc6ea8b-dfba-4395-9e5b-6d45a0a1f143",
   "metadata": {},
   "outputs": [
    {
     "name": "stdout",
     "output_type": "stream",
     "text": [
      "=======Only Rescaled Calculation Results========\n"
     ]
    },
    {
     "data": {
      "text/plain": [
       "<AxesSubplot:>"
      ]
     },
     "execution_count": 17,
     "metadata": {},
     "output_type": "execute_result"
    },
    {
     "data": {
      "text/plain": [
       "<Figure size 432x288 with 0 Axes>"
      ]
     },
     "metadata": {},
     "output_type": "display_data"
    },
    {
     "data": {
      "image/png": "[encoded data removed]",
      "text/plain": [
       "<Figure size 432x288 with 1 Axes>"
      ]
     },
     "metadata": {
      "needs_background": "light"
     },
     "output_type": "display_data"
    }
   ],
   "source": [
    "print('=======Only Rescaled Calculation Results========')\n",
    "plt.figure()\n",
    "fti4_df[:20].plot.bar() #Top20"
   ]
  },
  {
   "cell_type": "code",
   "execution_count": 18,
   "id": "012bdce9-0726-40f6-86fd-0ab9d04ade1e",
   "metadata": {},
   "outputs": [
    {
     "name": "stdout",
     "output_type": "stream",
     "text": [
      "=======Rescaled Calculation Results + Rdkit Finger Print========\n"
     ]
    },
    {
     "data": {
      "text/plain": [
       "<AxesSubplot:>"
      ]
     },
     "execution_count": 18,
     "metadata": {},
     "output_type": "execute_result"
    },
    {
     "data": {
      "text/plain": [
       "<Figure size 432x288 with 0 Axes>"
      ]
     },
     "metadata": {},
     "output_type": "display_data"
    },
    {
     "data": {
      "image/png": "[encoded data removed]",
      "text/plain": [
       "<Figure size 432x288 with 1 Axes>"
      ]
     },
     "metadata": {
      "needs_background": "light"
     },
     "output_type": "display_data"
    }
   ],
   "source": [
    "print('=======Rescaled Calculation Results + Rdkit Finger Print========')\n",
    "plt.figure()\n",
    "fti5_df[:20].plot.bar() #Top20"
   ]
  },
  {
   "cell_type": "code",
   "execution_count": null,
   "id": "a0209756-8c3c-43d0-a66f-ec552e0a36cf",
   "metadata": {},
   "outputs": [],
   "source": []
  }
 ],
 "metadata": {
  "kernelspec": {
   "display_name": "Python 3 (ipykernel)",
   "language": "python",
   "name": "python3"
  },
  "language_info": {
   "codemirror_mode": {
    "name": "ipython",
    "version": 3
   },
   "file_extension": ".py",
   "mimetype": "text/x-python",
   "name": "python",
   "nbconvert_exporter": "python",
   "pygments_lexer": "ipython3",
   "version": "3.7.10"
  }
 },
 "nbformat": 4,
 "nbformat_minor": 5
}
