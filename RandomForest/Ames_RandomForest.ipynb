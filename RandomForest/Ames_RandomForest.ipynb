{
 "cells": [
  {
   "cell_type": "code",
   "execution_count": 1,
   "id": "f33aa8db-16c4-4d6a-851a-9a846cbf4932",
   "metadata": {},
   "outputs": [],
   "source": [
    "#rdkit関連のimport\n",
    "from rdkit import Chem\n",
    "from rdkit.Chem import PandasTools\n",
    "\n",
    "#randamforest\n",
    "from sklearn.ensemble import RandomForestClassifier\n",
    "from sklearn.model_selection import train_test_split\n",
    "from sklearn.metrics import confusion_matrix\n",
    "from sklearn.metrics import accuracy_score\n",
    "from sklearn.metrics import classification_report\n",
    "\n",
    "#その他のimport\n",
    "import matplotlib as mpl\n",
    "import matplotlib.pyplot as plt\n",
    "import seaborn as sns\n",
    "import pandas as pd\n",
    "\n",
    "#sampleデータの読み込み\n",
    "sample = pd.read_csv(\"../AmesCalculation/test/TestAmes_100samples.csv\")\n",
    "\n",
    "#データの規格化\n",
    "def rescaling(features):\n",
    "    norm_features = []\n",
    "    max_value = max(features)\n",
    "    min_value = min(features)\n",
    "    for feature in features:\n",
    "        norm_feature = (feature - min_value)/(max_value - min_value)\n",
    "        norm_features.append(norm_feature)\n",
    "    \n",
    "    return norm_features\n",
    "norm_datasets = sample.loc[:,['ID','smiles','activity']]\n",
    "columns = sample.columns\n",
    "for column in columns[3:]:\n",
    "    norm_datasets[column] = rescaling(sample[column])\n",
    "\n",
    "PandasTools.AddMoleculeColumnToFrame(frame=norm_datasets, smilesCol = 'smiles')\n",
    "\n",
    "#pandasのデータフレームに分子を読み込み\n",
    "original = pd.read_csv( '../AmesCalculation/AvailableAmesDataSets.csv')\n",
    "\n",
    "#fingerprint\n",
    "rdkit_fp = []\n",
    "for mol in norm_datasets.ROMol:\n",
    "    mol = Chem.AddHs(mol) \n",
    "    fp = [x for x in Chem.RDKFingerprint(mol)]\n",
    "    rdkit_fp.append(fp)\n",
    "    \n",
    "calc_datasets = norm_datasets.iloc[:,3:-1]\n",
    "rdkit_fp_df = pd.DataFrame(rdkit_fp)\n",
    "calc_sets = pd.concat([calc_datasets,rdkit_fp_df], axis=1)"
   ]
  },
  {
   "cell_type": "code",
   "execution_count": null,
   "id": "afb728bf-ac80-41e8-97a3-f26d00b1ef6c",
   "metadata": {},
   "outputs": [],
   "source": [
    "\"\"\"\n",
    "X_train: 訓練データ\n",
    "X_test: テストデータ\n",
    "y_train: 訓練データの正解ラベル\n",
    "y_test: テストデータの正解ラベル\n",
    "\"\"\""
   ]
  },
  {
   "cell_type": "code",
   "execution_count": 2,
   "id": "ac7076e5-ea9b-44e6-8b96-5a37dc8dea75",
   "metadata": {},
   "outputs": [
    {
     "data": {
      "text/plain": [
       "1.0    52\n",
       "0.0    48\n",
       "Name: activity, dtype: int64"
      ]
     },
     "execution_count": 2,
     "metadata": {},
     "output_type": "execute_result"
    }
   ],
   "source": [
    "#分類するデータの確認\n",
    "norm_datasets['activity'].value_counts()"
   ]
  },
  {
   "cell_type": "code",
   "execution_count": 3,
   "id": "aefaa3e4-8b6f-460f-be55-cf2f313606eb",
   "metadata": {},
   "outputs": [
    {
     "name": "stdout",
     "output_type": "stream",
     "text": [
      "=======Only Rdkit Finger Print========\n",
      "train accuracy: 1.000\n",
      "test accuracy: 0.520\n",
      "accuracy: 0.520\n",
      "=======Calculation Results + Rdkit Finger Print========\n",
      "train accuracy: 1.000\n",
      "test accuracy: 0.520\n",
      "accuracy: 0.520\n",
      "=======Only Calculation Results========\n",
      "train accuracy: 1.000\n",
      "test accuracy: 0.600\n",
      "accuracy: 0.600\n"
     ]
    }
   ],
   "source": [
    "#Only Rdkit Finger Print\n",
    "X_train, X_test, y_train, y_test = train_test_split(rdkit_fp_df, norm_datasets.activity, random_state=0)#test_size=0.25(default)\n",
    "forest = RandomForestClassifier(max_depth=100, n_estimators=500, random_state=0)\n",
    "forest.fit(X_train, y_train)\n",
    "y_pred = forest.predict(X_test) #予測値算出\n",
    "print('=======Only Rdkit Finger Print========')\n",
    "print('train accuracy: {:.3f}'.format(forest.score(X_train, y_train)))\n",
    "print('test accuracy: {:.3f}'.format(forest.score(X_test, y_test)))\n",
    "print('accuracy: {:.3f}'.format(accuracy_score(y_test, y_pred)))\n",
    "#Calculation Results + Rdkit Finger Print\n",
    "X2_train, X2_test, y2_train, y2_test = train_test_split(calc_sets, norm_datasets.activity, random_state=0)\n",
    "forest2 = RandomForestClassifier(max_depth=100, n_estimators=500, random_state=0)\n",
    "forest2.fit(X2_train, y2_train)\n",
    "y2_pred = forest2.predict(X2_test) #予測値算出\n",
    "print('=======Calculation Results + Rdkit Finger Print========')\n",
    "print('train accuracy: {:.3f}'.format(forest2.score(X2_train, y2_train)))\n",
    "print('test accuracy: {:.3f}'.format(forest2.score(X2_test, y2_test)))\n",
    "print('accuracy: {:.3f}'.format(accuracy_score(y2_test, y2_pred)))\n",
    "#Only Calculation Results\n",
    "X3_train, X3_test, y3_train, y3_test = train_test_split(calc_datasets, norm_datasets.activity, random_state=0)\n",
    "forest3 = RandomForestClassifier(max_depth=100, n_estimators=500, random_state=0)\n",
    "forest3.fit(X3_train, y3_train)\n",
    "y3_pred = forest3.predict(X3_test) #予測値算出\n",
    "print('=======Only Calculation Results========')\n",
    "print('train accuracy: {:.3f}'.format(forest3.score(X3_train, y3_train)))\n",
    "print('test accuracy: {:.3f}'.format(forest3.score(X3_test, y3_test)))\n",
    "print('accuracy: {:.3f}'.format(accuracy_score(y3_test, y3_pred)))"
   ]
  },
  {
   "cell_type": "code",
   "execution_count": 4,
   "id": "27ef7cf5-bf92-4ca9-bcb3-ab0073493f55",
   "metadata": {},
   "outputs": [
    {
     "name": "stdout",
     "output_type": "stream",
     "text": [
      "=======Only Rdkit Finger Print========\n",
      "              precision    recall  f1-score   support\n",
      "\n",
      "         0.0       0.54      0.54      0.54        13\n",
      "         1.0       0.50      0.50      0.50        12\n",
      "\n",
      "    accuracy                           0.52        25\n",
      "   macro avg       0.52      0.52      0.52        25\n",
      "weighted avg       0.52      0.52      0.52        25\n",
      "\n",
      "=======Calculation Results + Rdkit Finger Print========\n",
      "              precision    recall  f1-score   support\n",
      "\n",
      "         0.0       0.55      0.46      0.50        13\n",
      "         1.0       0.50      0.58      0.54        12\n",
      "\n",
      "    accuracy                           0.52        25\n",
      "   macro avg       0.52      0.52      0.52        25\n",
      "weighted avg       0.52      0.52      0.52        25\n",
      "\n",
      "=======Only Calculation Results========\n",
      "              precision    recall  f1-score   support\n",
      "\n",
      "         0.0       0.62      0.62      0.62        13\n",
      "         1.0       0.58      0.58      0.58        12\n",
      "\n",
      "    accuracy                           0.60        25\n",
      "   macro avg       0.60      0.60      0.60        25\n",
      "weighted avg       0.60      0.60      0.60        25\n",
      "\n"
     ]
    }
   ],
   "source": [
    "#activityごとの評価\n",
    "print('=======Only Rdkit Finger Print========')\n",
    "print(classification_report(y_test,y_pred))\n",
    "print('=======Calculation Results + Rdkit Finger Print========')\n",
    "print(classification_report(y2_test,y2_pred))\n",
    "print('=======Only Calculation Results========')\n",
    "print(classification_report(y3_test,y3_pred))"
   ]
  },
  {
   "cell_type": "code",
   "execution_count": 5,
   "id": "84b325c3-3124-4cd0-9604-8b7d942f70c4",
   "metadata": {},
   "outputs": [
    {
     "data": {
      "text/plain": [
       "Text(91.68, 0.5, 'true value')"
      ]
     },
     "execution_count": 5,
     "metadata": {},
     "output_type": "execute_result"
    },
    {
     "data": {
      "image/png": "[encoded data removed]",
      "text/plain": [
       "<Figure size 432x288 with 1 Axes>"
      ]
     },
     "metadata": {
      "needs_background": "light"
     },
     "output_type": "display_data"
    }
   ],
   "source": [
    "#confusion matrix\n",
    "matrix = confusion_matrix(y_test, y_pred)\n",
    "sns.heatmap(matrix, square=True, annot=True, cbar=False, fmt='d', cmap='RdPu')\n",
    "plt.xlabel('activity')\n",
    "plt.ylabel('true value')"
   ]
  },
  {
   "cell_type": "code",
   "execution_count": 6,
   "id": "6ec0b292-6ddb-413b-af82-115a8f89691b",
   "metadata": {},
   "outputs": [],
   "source": [
    "# Feature Importance\n",
    "fti = forest.feature_importances_  \n",
    "fti2 = forest2.feature_importances_  \n",
    "fti3 = forest3.feature_importances_  \n",
    "calc_index = columns[3:]\n",
    "fti_df = pd.DataFrame(fti, columns = ['importance'])\n",
    "fti2_index = list(calc_index)+list(fti_df.index)\n",
    "fti3_index = list(calc_index)\n",
    "fti2_df = pd.DataFrame(fti2, columns =  ['importance'], index = fti2_index)\n",
    "fti3_df = pd.DataFrame(fti3, columns =  ['importance'], index = fti3_index)\n",
    "#sort\n",
    "fti_df = fti_df.sort_values(\"importance\", ascending=False)\n",
    "fti2_df = fti2_df.sort_values(\"importance\", ascending=False)\n",
    "fti3_df = fti3_df.sort_values(\"importance\", ascending=False)"
   ]
  },
  {
   "cell_type": "code",
   "execution_count": 8,
   "id": "1a6f2a95-2ce1-4c34-8cc3-46d413843bc7",
   "metadata": {},
   "outputs": [
    {
     "name": "stdout",
     "output_type": "stream",
     "text": [
      "=======Only Rdkit Finger Print========\n"
     ]
    },
    {
     "data": {
      "text/plain": [
       "<AxesSubplot:>"
      ]
     },
     "execution_count": 8,
     "metadata": {},
     "output_type": "execute_result"
    },
    {
     "data": {
      "text/plain": [
       "<Figure size 432x288 with 0 Axes>"
      ]
     },
     "metadata": {},
     "output_type": "display_data"
    },
    {
     "data": {
      "image/png": "[encoded data removed]",
      "text/plain": [
       "<Figure size 432x288 with 1 Axes>"
      ]
     },
     "metadata": {
      "needs_background": "light"
     },
     "output_type": "display_data"
    }
   ],
   "source": [
    "print('=======Only Rdkit Finger Print========')\n",
    "plt.figure()\n",
    "fti_df[:20].plot.bar() #Top20"
   ]
  },
  {
   "cell_type": "code",
   "execution_count": 24,
   "id": "c8543e28-3f63-4007-b95a-71e9d4191ab4",
   "metadata": {},
   "outputs": [
    {
     "name": "stdout",
     "output_type": "stream",
     "text": [
      "=======Calculation Results + Rdkit Finger Print========\n"
     ]
    },
    {
     "data": {
      "text/plain": [
       "<AxesSubplot:>"
      ]
     },
     "execution_count": 24,
     "metadata": {},
     "output_type": "execute_result"
    },
    {
     "data": {
      "text/plain": [
       "<Figure size 432x288 with 0 Axes>"
      ]
     },
     "metadata": {},
     "output_type": "display_data"
    },
    {
     "data": {
      "image/png": "[encoded data removed]",
      "text/plain": [
       "<Figure size 432x288 with 1 Axes>"
      ]
     },
     "metadata": {
      "needs_background": "light"
     },
     "output_type": "display_data"
    }
   ],
   "source": [
    "print('=======Calculation Results + Rdkit Finger Print========')\n",
    "plt.figure()\n",
    "fti2_df[:20].plot.bar() #Top20"
   ]
  },
  {
   "cell_type": "code",
   "execution_count": 25,
   "id": "48acbdf2-a021-489b-8738-615d66041a9e",
   "metadata": {},
   "outputs": [
    {
     "name": "stdout",
     "output_type": "stream",
     "text": [
      "=======Only Calculation Results========\n"
     ]
    },
    {
     "data": {
      "text/plain": [
       "<AxesSubplot:>"
      ]
     },
     "execution_count": 25,
     "metadata": {},
     "output_type": "execute_result"
    },
    {
     "data": {
      "text/plain": [
       "<Figure size 432x288 with 0 Axes>"
      ]
     },
     "metadata": {},
     "output_type": "display_data"
    },
    {
     "data": {
      "image/png": "[encoded data removed]",
      "text/plain": [
       "<Figure size 432x288 with 1 Axes>"
      ]
     },
     "metadata": {
      "needs_background": "light"
     },
     "output_type": "display_data"
    }
   ],
   "source": [
    "print('=======Only Calculation Results========')\n",
    "plt.figure()\n",
    "fti3_df.plot.bar()"
   ]
  },
  {
   "cell_type": "code",
   "execution_count": 9,
   "id": "b3dd0aed-9786-4539-9c90-ef058ffb338c",
   "metadata": {},
   "outputs": [],
   "source": [
    "#木の数でプロット\n",
    "tree_num = range(1,500)\n",
    "training_acc1 = []\n",
    "test_acc1 =[]\n",
    "training_acc2 = []\n",
    "test_acc2 =[]\n",
    "training_acc3 = []\n",
    "test_acc3 = []\n",
    "for N in tree_num:\n",
    "    nforest1 = RandomForestClassifier(max_depth=100, n_estimators=N, random_state=0)\n",
    "    nforest2 = RandomForestClassifier(max_depth=100, n_estimators=N, random_state=0)\n",
    "    nforest3 = RandomForestClassifier(max_depth=100, n_estimators=N, random_state=0)\n",
    "    nforest1.fit(X_train, y_train)\n",
    "    nforest2.fit(X2_train, y2_train)\n",
    "    nforest3.fit(X3_train, y3_train)\n",
    "    training_acc1.append(nforest1.score(X_train, y_train))\n",
    "    test_acc1.append(nforest1.score(X_test, y_test))\n",
    "    training_acc2.append(nforest2.score(X2_train, y2_train))\n",
    "    test_acc2.append(nforest2.score(X2_test, y2_test))\n",
    "    training_acc3.append(nforest3.score(X3_train, y3_train))\n",
    "    test_acc3.append(nforest3.score(X3_test, y3_test))"
   ]
  },
  {
   "cell_type": "code",
   "execution_count": 1,
   "id": "cb95a402-63a1-4cea-a486-f6ce8db913eb",
   "metadata": {},
   "outputs": [
    {
     "ename": "NameError",
     "evalue": "name 'plt' is not defined",
     "output_type": "error",
     "traceback": [
      "\u001b[0;31m---------------------------------------------------------------------------\u001b[0m",
      "\u001b[0;31mNameError\u001b[0m                                 Traceback (most recent call last)",
      "\u001b[0;32m/tmp/ipykernel_748/1472585759.py\u001b[0m in \u001b[0;36m<module>\u001b[0;34m\u001b[0m\n\u001b[1;32m      1\u001b[0m \u001b[0;31m#graph化\u001b[0m\u001b[0;34m\u001b[0m\u001b[0;34m\u001b[0m\u001b[0;34m\u001b[0m\u001b[0m\n\u001b[0;32m----> 2\u001b[0;31m \u001b[0mfig\u001b[0m \u001b[0;34m=\u001b[0m \u001b[0mplt\u001b[0m\u001b[0;34m.\u001b[0m\u001b[0mfigure\u001b[0m\u001b[0;34m(\u001b[0m\u001b[0mfigsize\u001b[0m\u001b[0;34m=\u001b[0m\u001b[0;34m(\u001b[0m\u001b[0;36m15.0\u001b[0m\u001b[0;34m,\u001b[0m\u001b[0;36m5.0\u001b[0m\u001b[0;34m)\u001b[0m\u001b[0;34m)\u001b[0m\u001b[0;34m\u001b[0m\u001b[0;34m\u001b[0m\u001b[0m\n\u001b[0m\u001b[1;32m      3\u001b[0m \u001b[0;34m\u001b[0m\u001b[0m\n\u001b[1;32m      4\u001b[0m \u001b[0;31m#Only Rdkit Finger Print\u001b[0m\u001b[0;34m\u001b[0m\u001b[0;34m\u001b[0m\u001b[0;34m\u001b[0m\u001b[0m\n\u001b[1;32m      5\u001b[0m \u001b[0max1\u001b[0m \u001b[0;34m=\u001b[0m \u001b[0mfig\u001b[0m\u001b[0;34m.\u001b[0m\u001b[0madd_subplot\u001b[0m\u001b[0;34m(\u001b[0m\u001b[0;36m1\u001b[0m\u001b[0;34m,\u001b[0m \u001b[0;36m3\u001b[0m\u001b[0;34m,\u001b[0m \u001b[0;36m1\u001b[0m\u001b[0;34m)\u001b[0m\u001b[0;34m\u001b[0m\u001b[0;34m\u001b[0m\u001b[0m\n",
      "\u001b[0;31mNameError\u001b[0m: name 'plt' is not defined"
     ]
    }
   ],
   "source": [
    "#graph化\n",
    "fig = plt.figure(figsize=(15.0,5.0))\n",
    "\n",
    "#Only Rdkit Finger Print\n",
    "ax1 = fig.add_subplot(1, 3, 1)\n",
    "ax1.plot(tree_num, training_acc1, label = 'train')\n",
    "ax1.plot(tree_num, test_acc1, label = 'test')\n",
    "ax1.set_title('Only Rdkit Finger Print')\n",
    "\n",
    "#Calculation Results + Rdkit Finger Print\n",
    "ax2 = fig.add_subplot(1, 3, 2)\n",
    "ax2.plot(tree_num, training_acc2, label = 'train')\n",
    "ax2.plot(tree_num, test_acc2, label = 'test')\n",
    "ax2.set_title('Calculation Results + Rdkit Finger Print')\n",
    "\n",
    "#Only Calculation Results\n",
    "ax3 = fig.add_subplot(1, 3, 3)\n",
    "ax3.plot(tree_num, training_acc3, label = 'train')\n",
    "ax3.plot(tree_num, test_acc3, label = 'test')\n",
    "ax3.set_title('Only Calculation Results')\n",
    "\n",
    "# 軸の一覧取得\n",
    "axs = plt.gcf().get_axes()\n",
    "\n",
    "# 軸毎にループ\n",
    "for ax in axs:\n",
    "    # 現在の軸を変更\n",
    "    plt.axes(ax)\n",
    "    \n",
    "    # 凡例を表示\n",
    "    plt.legend(loc=5)\n",
    "\n",
    "    # グリッド\n",
    "    plt.grid(linestyle='--')\n",
    "\n",
    "    # 軸ラベル\n",
    "    plt.xlabel('tree_num')\n",
    "    plt.ylabel('accuracy')\n",
    "    \n",
    "plt.tight_layout()\n",
    "plt.show()"
   ]
  }
 ],
 "metadata": {
  "kernelspec": {
   "display_name": "Python 3 (ipykernel)",
   "language": "python",
   "name": "python3"
  },
  "language_info": {
   "codemirror_mode": {
    "name": "ipython",
    "version": 3
   },
   "file_extension": ".py",
   "mimetype": "text/x-python",
   "name": "python",
   "nbconvert_exporter": "python",
   "pygments_lexer": "ipython3",
   "version": "3.7.10"
  }
 },
 "nbformat": 4,
 "nbformat_minor": 5
}
