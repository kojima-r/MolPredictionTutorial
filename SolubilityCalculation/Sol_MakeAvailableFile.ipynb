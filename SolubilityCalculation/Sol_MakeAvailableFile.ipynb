{
 "cells": [
  {
   "cell_type": "code",
   "execution_count": 5,
   "id": "8e2655b5-5b49-4dbc-a10a-1347edbbb431",
   "metadata": {},
   "outputs": [
    {
     "name": "stdout",
     "output_type": "stream",
     "text": [
      "start with 1278 samples\n"
     ]
    }
   ],
   "source": [
    "#rdkit関連のimport\n",
    "from rdkit import Chem\n",
    "from rdkit.Chem.rdDistGeom import ETKDGv3, EmbedMolecule\n",
    "from rdkit.Chem.rdForceFieldHelpers import MMFFOptimizeMolecule\n",
    "from rdkit.Chem import PandasTools\n",
    "\n",
    "#psi4\n",
    "import psi4\n",
    "\n",
    "#その他のimport\n",
    "import pandas as pd\n",
    "import time\n",
    "from timeout_decorator import timeout, TimeoutError\n",
    "\n",
    "#分子の読み込み\n",
    "suppl_train = Chem.SDMolSupplier('solubility.train.sdf')  #<-train\n",
    "train_mols = [x for x in suppl_train]   #<-train\n",
    "\n",
    "suppl_test = Chem.SDMolSupplier('solubility.test.sdf')  #<-test\n",
    "test_mols = [x for x in suppl_test]   #<-test\n",
    "\n",
    "#datasetの作成\n",
    "ID_list = []\n",
    "smiles_list = []\n",
    "SOL_list = []\n",
    "SOL_Class_list = []\n",
    "for mol in train_mols:\n",
    "    ID_list.append(mol.GetIntProp('ID'))\n",
    "    smiles_list.append(mol.GetProp('smiles'))\n",
    "    SOL_list.append(mol.GetDoubleProp('SOL'))\n",
    "    SOL_Class_list.append('SOL_classification')\n",
    "for mol in test_mols:\n",
    "    ID_list.append(mol.GetIntProp('ID'))\n",
    "    smiles_list.append(mol.GetProp('SMILES'))\n",
    "    SOL_list.append(mol.GetDoubleProp('SOL'))\n",
    "    SOL_Class_list.append('SOL_classification')\n",
    "    \n",
    "mol_datasets = pd.DataFrame({'ID':ID_list,'smiles':smiles_list,'SOL':SOL_list,'SOL_Class':SOL_Class_list})\n",
    "\n",
    "#Error分子\n",
    "Error_mols = pd.read_table('Sol_ErrorMolecule.txt', sep = ' ')\n",
    "Error_ID = Error_mols.ID\n",
    "mol_datasets = mol_datasets.drop(Error_ID)\n",
    "mol_datasets = mol_datasets.sort_values('ID')\n",
    "mol_datasets = mol_datasets.reset_index(drop=True)\n",
    "\n",
    "#データ数の取得\n",
    "data_num = len(mol_datasets.index)\n",
    "print('start with {} samples'.format(data_num))\n",
    "\n",
    "mol_datasets.to_csv(\"AvailableSolubilityDataSets.csv\")"
   ]
  }
 ],
 "metadata": {
  "kernelspec": {
   "display_name": "Python 3 (ipykernel)",
   "language": "python",
   "name": "python3"
  },
  "language_info": {
   "codemirror_mode": {
    "name": "ipython",
    "version": 3
   },
   "file_extension": ".py",
   "mimetype": "text/x-python",
   "name": "python",
   "nbconvert_exporter": "python",
   "pygments_lexer": "ipython3",
   "version": "3.7.10"
  }
 },
 "nbformat": 4,
 "nbformat_minor": 5
}
